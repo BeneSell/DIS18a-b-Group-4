{
 "cells": [
  {
   "cell_type": "code",
   "execution_count": 3,
   "id": "a87a853d",
   "metadata": {},
   "outputs": [
    {
     "name": "stdout",
     "output_type": "stream",
     "text": [
      "DOI: 37170421\n"
     ]
    },
    {
     "ename": "KeyboardInterrupt",
     "evalue": "Interrupted by user",
     "output_type": "error",
     "traceback": [
      "\u001b[1;31m---------------------------------------------------------------------------\u001b[0m",
      "\u001b[1;31mKeyboardInterrupt\u001b[0m                         Traceback (most recent call last)",
      "\u001b[1;32m~\\AppData\\Local\\Temp\\ipykernel_21872\\1845832376.py\u001b[0m in \u001b[0;36m<module>\u001b[1;34m\u001b[0m\n\u001b[0;32m     31\u001b[0m                     \u001b[1;31m# Prompt the user to input whether the GC content value is correct or not\u001b[0m\u001b[1;33m\u001b[0m\u001b[1;33m\u001b[0m\u001b[0m\n\u001b[0;32m     32\u001b[0m                     \u001b[0mprint\u001b[0m\u001b[1;33m(\u001b[0m\u001b[1;34mf\"DOI: {doi}\"\u001b[0m\u001b[1;33m)\u001b[0m\u001b[1;33m\u001b[0m\u001b[1;33m\u001b[0m\u001b[0m\n\u001b[1;32m---> 33\u001b[1;33m                     \u001b[0mcorrect\u001b[0m \u001b[1;33m=\u001b[0m \u001b[0minput\u001b[0m\u001b[1;33m(\u001b[0m\u001b[1;34mf\"Is the GC content value 'GC content of' correct for {bacterial_name}? (y/n) \"\u001b[0m\u001b[1;33m)\u001b[0m\u001b[1;33m\u001b[0m\u001b[1;33m\u001b[0m\u001b[0m\n\u001b[0m\u001b[0;32m     34\u001b[0m                     \u001b[1;32mwhile\u001b[0m \u001b[0mcorrect\u001b[0m\u001b[1;33m.\u001b[0m\u001b[0mlower\u001b[0m\u001b[1;33m(\u001b[0m\u001b[1;33m)\u001b[0m \u001b[1;32mnot\u001b[0m \u001b[1;32min\u001b[0m \u001b[1;33m[\u001b[0m\u001b[1;34m'y'\u001b[0m\u001b[1;33m,\u001b[0m \u001b[1;34m'n'\u001b[0m\u001b[1;33m]\u001b[0m\u001b[1;33m:\u001b[0m\u001b[1;33m\u001b[0m\u001b[1;33m\u001b[0m\u001b[0m\n\u001b[0;32m     35\u001b[0m                         \u001b[0mcorrect\u001b[0m \u001b[1;33m=\u001b[0m \u001b[0minput\u001b[0m\u001b[1;33m(\u001b[0m\u001b[1;34m\"Invalid input. Please enter 'y' or 'n': \"\u001b[0m\u001b[1;33m)\u001b[0m\u001b[1;33m\u001b[0m\u001b[1;33m\u001b[0m\u001b[0m\n",
      "\u001b[1;32m~\\anaconda3\\lib\\site-packages\\ipykernel\\kernelbase.py\u001b[0m in \u001b[0;36mraw_input\u001b[1;34m(self, prompt)\u001b[0m\n\u001b[0;32m   1175\u001b[0m                 \u001b[1;34m\"raw_input was called, but this frontend does not support input requests.\"\u001b[0m\u001b[1;33m\u001b[0m\u001b[1;33m\u001b[0m\u001b[0m\n\u001b[0;32m   1176\u001b[0m             )\n\u001b[1;32m-> 1177\u001b[1;33m         return self._input_request(\n\u001b[0m\u001b[0;32m   1178\u001b[0m             \u001b[0mstr\u001b[0m\u001b[1;33m(\u001b[0m\u001b[0mprompt\u001b[0m\u001b[1;33m)\u001b[0m\u001b[1;33m,\u001b[0m\u001b[1;33m\u001b[0m\u001b[1;33m\u001b[0m\u001b[0m\n\u001b[0;32m   1179\u001b[0m             \u001b[0mself\u001b[0m\u001b[1;33m.\u001b[0m\u001b[0m_parent_ident\u001b[0m\u001b[1;33m[\u001b[0m\u001b[1;34m\"shell\"\u001b[0m\u001b[1;33m]\u001b[0m\u001b[1;33m,\u001b[0m\u001b[1;33m\u001b[0m\u001b[1;33m\u001b[0m\u001b[0m\n",
      "\u001b[1;32m~\\anaconda3\\lib\\site-packages\\ipykernel\\kernelbase.py\u001b[0m in \u001b[0;36m_input_request\u001b[1;34m(self, prompt, ident, parent, password)\u001b[0m\n\u001b[0;32m   1217\u001b[0m             \u001b[1;32mexcept\u001b[0m \u001b[0mKeyboardInterrupt\u001b[0m\u001b[1;33m:\u001b[0m\u001b[1;33m\u001b[0m\u001b[1;33m\u001b[0m\u001b[0m\n\u001b[0;32m   1218\u001b[0m                 \u001b[1;31m# re-raise KeyboardInterrupt, to truncate traceback\u001b[0m\u001b[1;33m\u001b[0m\u001b[1;33m\u001b[0m\u001b[0m\n\u001b[1;32m-> 1219\u001b[1;33m                 \u001b[1;32mraise\u001b[0m \u001b[0mKeyboardInterrupt\u001b[0m\u001b[1;33m(\u001b[0m\u001b[1;34m\"Interrupted by user\"\u001b[0m\u001b[1;33m)\u001b[0m \u001b[1;32mfrom\u001b[0m \u001b[1;32mNone\u001b[0m\u001b[1;33m\u001b[0m\u001b[1;33m\u001b[0m\u001b[0m\n\u001b[0m\u001b[0;32m   1220\u001b[0m             \u001b[1;32mexcept\u001b[0m \u001b[0mException\u001b[0m\u001b[1;33m:\u001b[0m\u001b[1;33m\u001b[0m\u001b[1;33m\u001b[0m\u001b[0m\n\u001b[0;32m   1221\u001b[0m                 \u001b[0mself\u001b[0m\u001b[1;33m.\u001b[0m\u001b[0mlog\u001b[0m\u001b[1;33m.\u001b[0m\u001b[0mwarning\u001b[0m\u001b[1;33m(\u001b[0m\u001b[1;34m\"Invalid Message:\"\u001b[0m\u001b[1;33m,\u001b[0m \u001b[0mexc_info\u001b[0m\u001b[1;33m=\u001b[0m\u001b[1;32mTrue\u001b[0m\u001b[1;33m)\u001b[0m\u001b[1;33m\u001b[0m\u001b[1;33m\u001b[0m\u001b[0m\n",
      "\u001b[1;31mKeyboardInterrupt\u001b[0m: Interrupted by user"
     ]
    }
   ],
   "source": [
    "from Bio import Entrez\n",
    "import re\n",
    "\n",
    "Entrez.email = \"emirhan.acikgoez@hotmail.com\"  # Always tell NCBI who you are\n",
    "\n",
    "# Search PubMed for articles with \"GC content of\" or \"G + C content of\" in the title or abstract\n",
    "abstracts_with_gc = []\n",
    "for i in range(0, 200, 20):\n",
    "    handle = Entrez.esearch(db=\"pubmed\", term='(\"GC content of\" OR \"G + C content of\") AND bacterial[Title/Abstract]', retstart=i, retmax=20)\n",
    "    record = Entrez.read(handle)\n",
    "    ids = record[\"IdList\"]\n",
    "    # Process the IDs\n",
    "\n",
    "    # Get the list of article IDs\n",
    "    article_ids = record[\"IdList\"]\n",
    "\n",
    "    # Fetch the abstracts for the articles\n",
    "    handle = Entrez.efetch(db=\"pubmed\", id=article_ids, rettype=\"abstract\")\n",
    "    records = Entrez.read(handle)\n",
    "\n",
    "    # Parse the abstracts\n",
    "    for record in records[\"PubmedArticle\"]:\n",
    "        try:\n",
    "            temp_record = record[\"MedlineCitation\"][\"Article\"]\n",
    "            abstract = temp_record[\"Abstract\"][\"AbstractText\"][0]\n",
    "            if re.search(r\"\\bGC\\scontent\\sof\\b\", abstract, re.IGNORECASE) and len(re.findall(r\"([\\d\\.]+\\%)\", abstract)) == 1:\n",
    "                bacterial_match = re.search(r\"<i>(.*?)</i>\", abstract)\n",
    "                doi = record['PubmedData']['ArticleIdList'][0] if 'ArticleIdList' in record['PubmedData'] else 'N/A'\n",
    "                if bacterial_match:\n",
    "                    bacterial_name = bacterial_match.group(1)\n",
    "                    # Prompt the user to input whether the GC content value is correct or not\n",
    "                    print(f\"DOI: {doi}\")\n",
    "                    correct = input(f\"Is the GC content value 'GC content of' correct for {bacterial_name}? (y/n) \")\n",
    "                    while correct.lower() not in ['y', 'n']:\n",
    "                        correct = input(\"Invalid input. Please enter 'y' or 'n': \")\n",
    "                    if correct.lower() == 'y':\n",
    "                        abstracts_with_gc.append((bacterial_name, 'GC content of'))\n",
    "        except KeyError:\n",
    "            print(\"No abstract available\")\n",
    "\n",
    "# Print the bacterial names and their corresponding GC content phrases\n",
    "for bacterial_name, gc_content in abstracts_with_gc:\n",
    "    print(f\"{bacterial_name} has the phrase 'GC content of'\")\n"
   ]
  },
  {
   "cell_type": "code",
   "execution_count": null,
   "id": "b61fc77b",
   "metadata": {},
   "outputs": [],
   "source": []
  }
 ],
 "metadata": {
  "kernelspec": {
   "display_name": "Python 3 (ipykernel)",
   "language": "python",
   "name": "python3"
  },
  "language_info": {
   "codemirror_mode": {
    "name": "ipython",
    "version": 3
   },
   "file_extension": ".py",
   "mimetype": "text/x-python",
   "name": "python",
   "nbconvert_exporter": "python",
   "pygments_lexer": "ipython3",
   "version": "3.9.13"
  }
 },
 "nbformat": 4,
 "nbformat_minor": 5
}
