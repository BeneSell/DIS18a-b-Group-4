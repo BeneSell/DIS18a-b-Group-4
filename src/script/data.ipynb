{
 "cells": [
  {
   "cell_type": "code",
   "execution_count": 1,
   "metadata": {},
   "outputs": [
    {
     "name": "stdout",
     "output_type": "stream",
     "text": [
      "String contains exactly one %\n"
     ]
    }
   ],
   "source": [
    "import re\n",
    "\n",
    "# short example for our precentage logic\n",
    "\n",
    "exm_1_string = \"The GC-content is 50%, and the pH is 7\"\n",
    "matches = re.findall(r\"\\%\", exm_1_string)\n",
    "if(len(matches) == 1):\n",
    "    print(\"String contains exactly one %\")\n"
   ]
  },
  {
   "cell_type": "code",
   "execution_count": 19,
   "metadata": {},
   "outputs": [
    {
     "name": "stdout",
     "output_type": "stream",
     "text": [
      "No abstract available\n",
      "No abstract available for 1 articles by total of 20 articles\n",
      "No abstract available for 0 articles by total of 20 articles\n",
      "No abstract available for 0 articles by total of 20 articles\n",
      "No abstract available for 0 articles by total of 20 articles\n",
      "No abstract available for 0 articles by total of 20 articles\n",
      "No abstract available for 0 articles by total of 20 articles\n",
      "No abstract available for 0 articles by total of 20 articles\n",
      "No abstract available for 0 articles by total of 20 articles\n",
      "No abstract available for 0 articles by total of 20 articles\n",
      "No abstract available for 0 articles by total of 20 articles\n",
      "No abstract available for 0 articles by total of 20 articles\n",
      "No abstract available for 0 articles by total of 20 articles\n",
      "No abstract available for 0 articles by total of 20 articles\n",
      "No abstract available for 0 articles by total of 20 articles\n",
      "No abstract available\n",
      "No abstract available for 1 articles by total of 20 articles\n",
      "No abstract available for 0 articles by total of 20 articles\n",
      "No abstract available for 0 articles by total of 20 articles\n",
      "No abstract available for 0 articles by total of 20 articles\n",
      "No abstract available for 0 articles by total of 20 articles\n",
      "No abstract available for 0 articles by total of 20 articles\n"
     ]
    }
   ],
   "source": [
    "from Bio import Entrez\n",
    "\n",
    "Entrez.email = \"bene6@hotmail.de\"  # Always tell NCBI who you are\n",
    "\n",
    "abstracts_with_one_perc = []\n",
    "\n",
    "# Search PubMed for articles with \"GC-content\" in the title\n",
    "for i in range(0, 400, 20):\n",
    "    handle = Entrez.esearch(db=\"pubmed\", term='(\"GC content of\" OR \"G + C content of\") AND bacterial[Title/Abstract]', retstart=i, retmax=20)\n",
    "    record = Entrez.read(handle)\n",
    "    ids = record[\"IdList\"]\n",
    "    # Process the IDs\n",
    "\n",
    "    # Get the list of article IDs\n",
    "    article_ids = record[\"IdList\"]\n",
    "\n",
    "    # Fetch the abstracts for the articles\n",
    "    handle = Entrez.efetch(db=\"pubmed\", id=article_ids, rettype=\"abstract\")\n",
    "    records = Entrez.read(handle)\n",
    "\n",
    "    # Print the abstracts\n",
    "    noAbstract = 0\n",
    "    for record in records[\"PubmedArticle\"]:\n",
    "        try:\n",
    "            temp_record = record[\"MedlineCitation\"][\"Article\"]\n",
    "            matches = re.findall(r\"\\%\", temp_record[\"Abstract\"][\"AbstractText\"][0])\n",
    "            if(len(matches) == 1):\n",
    "                abstracts_with_one_perc.append(temp_record)\n",
    "            pass\n",
    "        except KeyError:\n",
    "            print(\"No abstract available\")\n",
    "            noAbstract += 1\n",
    "    print(\"No abstract available for \" + str(noAbstract) + \" articles \"  + \"by total of \" + str(len(article_ids)) + \" articles\")\n"
   ]
  },
  {
   "cell_type": "code",
   "execution_count": 20,
   "metadata": {},
   "outputs": [
    {
     "data": {
      "text/plain": [
       "'<i>Vibrio parahaemolyticus</i> is a major foodborne pathogen and the main cause of diarrheal diseases transmitted by seafood such as fish, shrimp, and shellfish. In the current study, a novel lytic phage infecting <i>V. parahaemolyticus</i>, vB_VpaP_GHSM17, was isolated from the sewage of a seafood market, Huangsha, Guangzhou, and its morphology, biochemistry, and taxonomy features were identified. Morphological observation revealed that GHSM17 had an icosahedral head with a short, non-contractile tail. The double-stranded DNA genome of GHSM17 consisted of 43,228 bp with a GC content of 49.42%. In total, 45 putative ORFs were identified in the GHSM17 genome. Taxonomic analysis indicated GHSM17 belonging to genus <i>Maculvirus</i>, family <i>Autographiviridae.</i> In addition, GHSM17 was stable over a wide range of temperatures (20-60 °C) and pH (5-11) and was completely inactivated after 70 min of ultraviolet irradiation. The bacterial inhibition assay revealed that GHSM17 could inhibit the growth of <i>V. parahaemolyticus</i> within 8 h. The results support that phage GHSM17 may be a potential candidate in the biological control of <i>V. parahaemolyticus</i> contamination in aquaculture.'"
      ]
     },
     "execution_count": 20,
     "metadata": {},
     "output_type": "execute_result"
    }
   ],
   "source": [
    "records[\"PubmedArticle\"][0][\"MedlineCitation\"][\"Article\"][\"Abstract\"][\"AbstractText\"][0]"
   ]
  },
  {
   "cell_type": "code",
   "execution_count": 21,
   "metadata": {},
   "outputs": [
    {
     "data": {
      "text/plain": [
       "[StringElement('Journal Article', attributes={'UI': 'D016428'}), StringElement(\"Research Support, Non-U.S. Gov't\", attributes={'UI': 'D013485'})]"
      ]
     },
     "execution_count": 21,
     "metadata": {},
     "output_type": "execute_result"
    }
   ],
   "source": [
    "records[\"PubmedArticle\"][0][\"MedlineCitation\"][\"Article\"].keys()\n",
    "records[\"PubmedArticle\"][0][\"MedlineCitation\"][\"Article\"][\"PublicationTypeList\"]\n",
    "# records[\"PubmedArticle\"][0][\"MedlineCitation\"].keys()\n",
    "# records[\"PubmedArticle\"][0][\"MedlineCitation\"].keys()\n",
    "# records[\"PubmedArticle\"][0].keys()\n",
    "\n",
    "\n",
    "# records[\"PubmedArticle\"][0][\"PubmedData\"].keys()"
   ]
  },
  {
   "cell_type": "code",
   "execution_count": 22,
   "metadata": {},
   "outputs": [
    {
     "data": {
      "text/plain": [
       "[StringElement('1601', attributes={'EIdType': 'pii', 'ValidYN': 'Y'}),\n",
       " StringElement('10.3390/v14081601', attributes={'EIdType': 'doi', 'ValidYN': 'Y'})]"
      ]
     },
     "execution_count": 22,
     "metadata": {},
     "output_type": "execute_result"
    }
   ],
   "source": [
    "records[\"PubmedArticle\"][0][\"MedlineCitation\"][\"Article\"][\"ELocationID\"]"
   ]
  },
  {
   "cell_type": "code",
   "execution_count": 23,
   "metadata": {},
   "outputs": [],
   "source": [
    "# abstracts_with_one_perc[0]\n",
    "matches = re.findall(r\"\\%\", abstracts_with_one_perc[0][\"Abstract\"][\"AbstractText\"][0])\n",
    "if(len(matches) > 1):\n",
    "    print(\"String contains more than one percent symbol\")"
   ]
  },
  {
   "cell_type": "code",
   "execution_count": 24,
   "metadata": {},
   "outputs": [
    {
     "data": {
      "text/plain": [
       "73"
      ]
     },
     "execution_count": 24,
     "metadata": {},
     "output_type": "execute_result"
    }
   ],
   "source": [
    "len(abstracts_with_one_perc)"
   ]
  },
  {
   "cell_type": "code",
   "execution_count": 25,
   "metadata": {},
   "outputs": [],
   "source": [
    "import pandas as pd\n",
    "abstracts_with_one_perc[0]\n",
    "\n",
    "pd.DataFrame([x[\"Abstract\"][\"AbstractText\"] for x in abstracts_with_one_perc]).to_csv(\"test.csv\", index=None)"
   ]
  },
  {
   "cell_type": "code",
   "execution_count": 26,
   "metadata": {},
   "outputs": [
    {
     "name": "stdout",
     "output_type": "stream",
     "text": [
      "Is the data for Variovorax with \" 70)%, r \" correct? (y/n/m)\n",
      "Is the data for Psychrobacter with \" 4.1% G+ \" correct? (y/n/m)\n",
      "Is the data for None with None correct? (y/n/m)\n",
      "Is the data for Roseiflexus with \" 0.5% re \" correct? (y/n/m)\n",
      "Is the data for None with None correct? (y/n/m)\n",
      "Is the data for Myxococcus with \" 7.5% an \" correct? (y/n/m)\n",
      "Is the data for Sphingomonas with \" .1 %, r \" correct? (y/n/m)\n"
     ]
    },
    {
     "ename": "KeyboardInterrupt",
     "evalue": "Interrupted by user",
     "output_type": "error",
     "traceback": [
      "\u001b[1;31m---------------------------------------------------------------------------\u001b[0m",
      "\u001b[1;31mKeyboardInterrupt\u001b[0m                         Traceback (most recent call last)",
      "\u001b[1;32m~\\AppData\\Local\\Temp/ipykernel_20280/1947158639.py\u001b[0m in \u001b[0;36m<module>\u001b[1;34m\u001b[0m\n\u001b[0;32m     31\u001b[0m     \u001b[0mprint\u001b[0m\u001b[1;33m(\u001b[0m\u001b[1;34m\"Is the data for \"\u001b[0m \u001b[1;33m+\u001b[0m \u001b[0mstr\u001b[0m\u001b[1;33m(\u001b[0m\u001b[0mhopefully_bacterial\u001b[0m\u001b[1;33m)\u001b[0m \u001b[1;33m+\u001b[0m \u001b[1;34m\" with \"\u001b[0m \u001b[1;33m+\u001b[0m \u001b[0mstr\u001b[0m\u001b[1;33m(\u001b[0m\u001b[0mhopefully_percentage_for_bacterial\u001b[0m\u001b[1;33m)\u001b[0m \u001b[1;33m+\u001b[0m \u001b[1;34m\" correct? (y/n/m)\"\u001b[0m\u001b[1;33m)\u001b[0m\u001b[1;33m\u001b[0m\u001b[1;33m\u001b[0m\u001b[0m\n\u001b[0;32m     32\u001b[0m     \u001b[1;32mwhile\u001b[0m\u001b[1;33m(\u001b[0m\u001b[0mis_valuable_data\u001b[0m \u001b[1;33m!=\u001b[0m \u001b[1;34m\"y\"\u001b[0m \u001b[1;32mand\u001b[0m \u001b[0mis_valuable_data\u001b[0m \u001b[1;33m!=\u001b[0m \u001b[1;34m\"n\"\u001b[0m \u001b[1;32mand\u001b[0m \u001b[0mis_valuable_data\u001b[0m \u001b[1;33m!=\u001b[0m \u001b[1;34m\"m\"\u001b[0m\u001b[1;33m)\u001b[0m\u001b[1;33m:\u001b[0m\u001b[1;33m\u001b[0m\u001b[1;33m\u001b[0m\u001b[0m\n\u001b[1;32m---> 33\u001b[1;33m         \u001b[0mis_valuable_data\u001b[0m \u001b[1;33m=\u001b[0m \u001b[0minput\u001b[0m\u001b[1;33m(\u001b[0m\u001b[1;34m\"Is the data for \"\u001b[0m \u001b[1;33m+\u001b[0m \u001b[0mstr\u001b[0m\u001b[1;33m(\u001b[0m\u001b[0mhopefully_bacterial\u001b[0m\u001b[1;33m)\u001b[0m \u001b[1;33m+\u001b[0m \u001b[1;34m\" with \"\u001b[0m \u001b[1;33m+\u001b[0m \u001b[0mstr\u001b[0m\u001b[1;33m(\u001b[0m\u001b[0mhopefully_percentage_for_bacterial\u001b[0m\u001b[1;33m)\u001b[0m \u001b[1;33m+\u001b[0m \u001b[1;34m\" correct? (y/n/m)\"\u001b[0m\u001b[1;33m)\u001b[0m\u001b[1;33m\u001b[0m\u001b[1;33m\u001b[0m\u001b[0m\n\u001b[0m\u001b[0;32m     34\u001b[0m \u001b[1;33m\u001b[0m\u001b[0m\n\u001b[0;32m     35\u001b[0m     \u001b[0mhopefull_dict\u001b[0m \u001b[1;33m=\u001b[0m \u001b[1;33m{\u001b[0m\u001b[0mhopefully_bacterial\u001b[0m\u001b[1;33m:\u001b[0m \u001b[0mhopefully_percentage_for_bacterial\u001b[0m\u001b[1;33m,\u001b[0m \u001b[1;34m\"is_valuable_data\"\u001b[0m\u001b[1;33m:\u001b[0m \u001b[0mis_valuable_data\u001b[0m\u001b[1;33m}\u001b[0m\u001b[1;33m\u001b[0m\u001b[1;33m\u001b[0m\u001b[0m\n",
      "\u001b[1;32mc:\\ProgramData\\Anaconda3\\lib\\site-packages\\ipykernel\\kernelbase.py\u001b[0m in \u001b[0;36mraw_input\u001b[1;34m(self, prompt)\u001b[0m\n\u001b[0;32m   1004\u001b[0m                 \u001b[1;34m\"raw_input was called, but this frontend does not support input requests.\"\u001b[0m\u001b[1;33m\u001b[0m\u001b[1;33m\u001b[0m\u001b[0m\n\u001b[0;32m   1005\u001b[0m             )\n\u001b[1;32m-> 1006\u001b[1;33m         return self._input_request(\n\u001b[0m\u001b[0;32m   1007\u001b[0m             \u001b[0mstr\u001b[0m\u001b[1;33m(\u001b[0m\u001b[0mprompt\u001b[0m\u001b[1;33m)\u001b[0m\u001b[1;33m,\u001b[0m\u001b[1;33m\u001b[0m\u001b[1;33m\u001b[0m\u001b[0m\n\u001b[0;32m   1008\u001b[0m             \u001b[0mself\u001b[0m\u001b[1;33m.\u001b[0m\u001b[0m_parent_ident\u001b[0m\u001b[1;33m[\u001b[0m\u001b[1;34m\"shell\"\u001b[0m\u001b[1;33m]\u001b[0m\u001b[1;33m,\u001b[0m\u001b[1;33m\u001b[0m\u001b[1;33m\u001b[0m\u001b[0m\n",
      "\u001b[1;32mc:\\ProgramData\\Anaconda3\\lib\\site-packages\\ipykernel\\kernelbase.py\u001b[0m in \u001b[0;36m_input_request\u001b[1;34m(self, prompt, ident, parent, password)\u001b[0m\n\u001b[0;32m   1049\u001b[0m             \u001b[1;32mexcept\u001b[0m \u001b[0mKeyboardInterrupt\u001b[0m\u001b[1;33m:\u001b[0m\u001b[1;33m\u001b[0m\u001b[1;33m\u001b[0m\u001b[0m\n\u001b[0;32m   1050\u001b[0m                 \u001b[1;31m# re-raise KeyboardInterrupt, to truncate traceback\u001b[0m\u001b[1;33m\u001b[0m\u001b[1;33m\u001b[0m\u001b[0m\n\u001b[1;32m-> 1051\u001b[1;33m                 \u001b[1;32mraise\u001b[0m \u001b[0mKeyboardInterrupt\u001b[0m\u001b[1;33m(\u001b[0m\u001b[1;34m\"Interrupted by user\"\u001b[0m\u001b[1;33m)\u001b[0m \u001b[1;32mfrom\u001b[0m \u001b[1;32mNone\u001b[0m\u001b[1;33m\u001b[0m\u001b[1;33m\u001b[0m\u001b[0m\n\u001b[0m\u001b[0;32m   1052\u001b[0m             \u001b[1;32mexcept\u001b[0m \u001b[0mException\u001b[0m\u001b[1;33m:\u001b[0m\u001b[1;33m\u001b[0m\u001b[1;33m\u001b[0m\u001b[0m\n\u001b[0;32m   1053\u001b[0m                 \u001b[0mself\u001b[0m\u001b[1;33m.\u001b[0m\u001b[0mlog\u001b[0m\u001b[1;33m.\u001b[0m\u001b[0mwarning\u001b[0m\u001b[1;33m(\u001b[0m\u001b[1;34m\"Invalid Message:\"\u001b[0m\u001b[1;33m,\u001b[0m \u001b[0mexc_info\u001b[0m\u001b[1;33m=\u001b[0m\u001b[1;32mTrue\u001b[0m\u001b[1;33m)\u001b[0m\u001b[1;33m\u001b[0m\u001b[1;33m\u001b[0m\u001b[0m\n",
      "\u001b[1;31mKeyboardInterrupt\u001b[0m: Interrupted by user"
     ]
    }
   ],
   "source": [
    "hopefull_dicts = []\n",
    "\n",
    "# give the one <i> tag which is the nearest to the % sign\n",
    "\n",
    "# Add DOI to the dict\n",
    "# Add Abstract to the dict\n",
    "# ETC\n",
    "\n",
    "\n",
    "for pre_x in abstracts_with_one_perc:\n",
    "    x = pre_x[\"Abstract\"][\"AbstractText\"][0]\n",
    "    \n",
    "    # Extract the content between the tags\n",
    "    result = re.search(r\"<i>(.*?)</i>\", x)\n",
    "    if result:\n",
    "        hopefully_bacterial = result.group(1)\n",
    "    else:\n",
    "        hopefully_bacterial = None\n",
    "\n",
    "\n",
    "    # Extract the precentage value\n",
    "    \n",
    "    # give me everything which is close to the % sign\n",
    "    result = re.search(r\"(.{3}\\%.{3})\", x)\n",
    "    if result:\n",
    "        hopefully_percentage_for_bacterial =str('\" ' + result.group(1) + ' \"')\n",
    "    else:\n",
    "        hopefully_percentage_for_bacterial = None\n",
    "\n",
    "    is_valuable_data = \"\"\n",
    "    print(\"Is the data for \" + str(hopefully_bacterial) + \" with \" + str(hopefully_percentage_for_bacterial) + \" correct? (y/n/m)\")\n",
    "    \n",
    "    while(is_valuable_data != \"y\" and is_valuable_data != \"n\" and is_valuable_data != \"m\"):\n",
    "        is_valuable_data = input(\"Is the data for \" + str(hopefully_bacterial) + \" with \" + str(hopefully_percentage_for_bacterial) + \" correct? (y/n/m)\")\n",
    "\n",
    "    hopefull_dict = {hopefully_bacterial: hopefully_percentage_for_bacterial, \"is_valuable_data\": is_valuable_data}\n",
    "\n",
    "    hopefull_dicts.append(hopefull_dict)\n",
    "\n",
    "# show only dicts with a value and a key\n",
    "# hopefull_dicts = [x for x in hopefull_dicts if list(x.keys())[0] is not None and list(x.values())[0] is not None]\n",
    "hopefull_dicts\n",
    "# how do we verify?\n",
    "\n",
    "\n",
    "\n"
   ]
  },
  {
   "cell_type": "code",
   "execution_count": 19,
   "metadata": {},
   "outputs": [
    {
     "data": {
      "text/plain": [
       "[{'amoA': '2%', 'is_valuable_data': 'm'},\n",
       " {'Caragana microphylla, Caragana liouana': '1%', 'is_valuable_data': 'm'},\n",
       " {'E. coli': '7.4%', 'is_valuable_data': 'm'},\n",
       " {'Haliclona (Rhizoniera)': '80%', 'is_valuable_data': 'm'},\n",
       " {'Oceanobacillus jordanicus': '39.09%', 'is_valuable_data': 'm'},\n",
       " {'Xanthomonas oryzae': '63.7%', 'is_valuable_data': 'm'},\n",
       " {'Bacillus': '41.41%', 'is_valuable_data': 'm'},\n",
       " {'Streptomyces': '71.80%', 'is_valuable_data': 'm'},\n",
       " {'Paenibacillus': '46%', 'is_valuable_data': 'm'},\n",
       " {'Enterobacter roggenkampii': '56.16%', 'is_valuable_data': 'm'},\n",
       " {'Pseudarthrobacter phenanthrenivorans': '65.30%', 'is_valuable_data': 'm'}]"
      ]
     },
     "execution_count": 19,
     "metadata": {},
     "output_type": "execute_result"
    }
   ],
   "source": [
    "# only show the ones which are valuable\n",
    "[x for x in hopefull_dicts if x[\"is_valuable_data\"] == \"m\"]"
   ]
  },
  {
   "cell_type": "code",
   "execution_count": 14,
   "metadata": {},
   "outputs": [],
   "source": [
    "import pandas as pd\n",
    "# read csv Simulation.csv \n",
    "\n",
    "\n",
    "random_df = pd.read_csv(\"Simulation.csv\", sep=\";\")"
   ]
  },
  {
   "cell_type": "code",
   "execution_count": 16,
   "metadata": {},
   "outputs": [],
   "source": [
    "random_df.to_csv(\"Simulation_good_csv.csv\", sep=\",\", index=False, quoting=1)"
   ]
  },
  {
   "cell_type": "code",
   "execution_count": 27,
   "metadata": {},
   "outputs": [],
   "source": [
    "# start python script in git bash python \"C:\\OneDrive\\Technische Hochschule\\DIS18a-b\\repo\\DIS18a-b-Group-4\\src\\script/test_python.py\"\n"
   ]
  },
  {
   "cell_type": "code",
   "execution_count": 3,
   "metadata": {},
   "outputs": [],
   "source": [
    "# import orkg_test_data.csv\n",
    "import pandas as pd\n",
    "orkg_df = pd.read_csv(\"orkg_test_data.csv\", sep=\"\\t\", encoding=\"latin-1\").to_csv(\"orkg_test_data_comma.csv\", sep=\",\", index=False, quoting=1)"
   ]
  },
  {
   "cell_type": "code",
   "execution_count": 4,
   "metadata": {},
   "outputs": [
    {
     "data": {
      "text/html": [
       "<div>\n",
       "<style scoped>\n",
       "    .dataframe tbody tr th:only-of-type {\n",
       "        vertical-align: middle;\n",
       "    }\n",
       "\n",
       "    .dataframe tbody tr th {\n",
       "        vertical-align: top;\n",
       "    }\n",
       "\n",
       "    .dataframe thead th {\n",
       "        text-align: right;\n",
       "    }\n",
       "</style>\n",
       "<table border=\"1\" class=\"dataframe\">\n",
       "  <thead>\n",
       "    <tr style=\"text-align: right;\">\n",
       "      <th></th>\n",
       "      <th>Title</th>\n",
       "      <th>Bacteria</th>\n",
       "      <th>GC-Content</th>\n",
       "      <th>DOI of publication</th>\n",
       "    </tr>\n",
       "  </thead>\n",
       "  <tbody>\n",
       "    <tr>\n",
       "      <th>0</th>\n",
       "      <td>Complete Genome Sequence Data of Pseudomonas b...</td>\n",
       "      <td>Pseudomonas bijieensis</td>\n",
       "      <td>60.89%</td>\n",
       "      <td>10.1094/PDIS-10-22-2319-A</td>\n",
       "    </tr>\n",
       "    <tr>\n",
       "      <th>1</th>\n",
       "      <td>Genomic Analysis and In Vitro Investigation of...</td>\n",
       "      <td>Loigolactobacillus backii</td>\n",
       "      <td>40.68%</td>\n",
       "      <td>10.3390/microorganisms11020280</td>\n",
       "    </tr>\n",
       "    <tr>\n",
       "      <th>2</th>\n",
       "      <td>Complete Genome Sequence of Bacillus velezensi...</td>\n",
       "      <td>Bacillus velezensis</td>\n",
       "      <td>46.48%</td>\n",
       "      <td>10.1094/MPMI-09-22-0193-A</td>\n",
       "    </tr>\n",
       "    <tr>\n",
       "      <th>3</th>\n",
       "      <td>Whole genome sequence data of a marine bacteri...</td>\n",
       "      <td>Marinobacter adhaerens (PBVC038)</td>\n",
       "      <td>57.19%</td>\n",
       "      <td>10.1016/j.dib.2022.108768</td>\n",
       "    </tr>\n",
       "    <tr>\n",
       "      <th>4</th>\n",
       "      <td>Draft Genome Sequence of Oceanobacillus jordan...</td>\n",
       "      <td>Oceanobacillus jordanicus</td>\n",
       "      <td>39.09%</td>\n",
       "      <td>10.1177/11769343211071114</td>\n",
       "    </tr>\n",
       "    <tr>\n",
       "      <th>5</th>\n",
       "      <td>Genome Resource of a Hypervirulent Strain C9-3...</td>\n",
       "      <td>Xanthomonas oryzae pv. Oryzae</td>\n",
       "      <td>63.7%</td>\n",
       "      <td>10.1094/PDIS-07-21-1565-A</td>\n",
       "    </tr>\n",
       "    <tr>\n",
       "      <th>6</th>\n",
       "      <td>Genome Sequence Resource of Bacillus sp. RRD69...</td>\n",
       "      <td>Bacillus sp. RRD69</td>\n",
       "      <td>41.41%</td>\n",
       "      <td>10.1094/MPMI-08-20-0222-A</td>\n",
       "    </tr>\n",
       "    <tr>\n",
       "      <th>7</th>\n",
       "      <td>Complete Genome Sequence of Paenibacillus sp. ...</td>\n",
       "      <td>Paenibacillus sp. strain E222</td>\n",
       "      <td>46.00%</td>\n",
       "      <td>10.1128/MRA.00786-20</td>\n",
       "    </tr>\n",
       "    <tr>\n",
       "      <th>8</th>\n",
       "      <td>Complete Genome Sequence of Enterobacter rogge...</td>\n",
       "      <td>Enterobacter roggenkampii (KQ-01)</td>\n",
       "      <td>56.16%</td>\n",
       "      <td>10.1094/PDIS-07-20-1468-A</td>\n",
       "    </tr>\n",
       "    <tr>\n",
       "      <th>9</th>\n",
       "      <td>Draft Genome Sequence of Pseudarthrobacter phe...</td>\n",
       "      <td>Pseudarthrobacter phenanthrenivorans (MHSD1)</td>\n",
       "      <td>65.30%</td>\n",
       "      <td>10.1177/1176934320913257</td>\n",
       "    </tr>\n",
       "  </tbody>\n",
       "</table>\n",
       "</div>"
      ],
      "text/plain": [
       "                                               Title  \\\n",
       "0  Complete Genome Sequence Data of Pseudomonas b...   \n",
       "1  Genomic Analysis and In Vitro Investigation of...   \n",
       "2  Complete Genome Sequence of Bacillus velezensi...   \n",
       "3  Whole genome sequence data of a marine bacteri...   \n",
       "4  Draft Genome Sequence of Oceanobacillus jordan...   \n",
       "5  Genome Resource of a Hypervirulent Strain C9-3...   \n",
       "6  Genome Sequence Resource of Bacillus sp. RRD69...   \n",
       "7  Complete Genome Sequence of Paenibacillus sp. ...   \n",
       "8  Complete Genome Sequence of Enterobacter rogge...   \n",
       "9  Draft Genome Sequence of Pseudarthrobacter phe...   \n",
       "\n",
       "                                       Bacteria GC-Content  \\\n",
       "0                        Pseudomonas bijieensis     60.89%   \n",
       "1                     Loigolactobacillus backii     40.68%   \n",
       "2                           Bacillus velezensis     46.48%   \n",
       "3              Marinobacter adhaerens (PBVC038)     57.19%   \n",
       "4                     Oceanobacillus jordanicus     39.09%   \n",
       "5                 Xanthomonas oryzae pv. Oryzae      63.7%   \n",
       "6                            Bacillus sp. RRD69     41.41%   \n",
       "7                 Paenibacillus sp. strain E222     46.00%   \n",
       "8             Enterobacter roggenkampii (KQ-01)     56.16%   \n",
       "9  Pseudarthrobacter phenanthrenivorans (MHSD1)     65.30%   \n",
       "\n",
       "               DOI of publication  \n",
       "0       10.1094/PDIS-10-22-2319-A  \n",
       "1  10.3390/microorganisms11020280  \n",
       "2       10.1094/MPMI-09-22-0193-A  \n",
       "3       10.1016/j.dib.2022.108768  \n",
       "4       10.1177/11769343211071114  \n",
       "5       10.1094/PDIS-07-21-1565-A  \n",
       "6       10.1094/MPMI-08-20-0222-A  \n",
       "7            10.1128/MRA.00786-20  \n",
       "8       10.1094/PDIS-07-20-1468-A  \n",
       "9        10.1177/1176934320913257  "
      ]
     },
     "execution_count": 4,
     "metadata": {},
     "output_type": "execute_result"
    }
   ],
   "source": []
  },
  {
   "cell_type": "code",
   "execution_count": null,
   "metadata": {},
   "outputs": [],
   "source": []
  }
 ],
 "metadata": {
  "kernelspec": {
   "display_name": "Python 3.9.7 ('base')",
   "language": "python",
   "name": "python3"
  },
  "language_info": {
   "codemirror_mode": {
    "name": "ipython",
    "version": 3
   },
   "file_extension": ".py",
   "mimetype": "text/x-python",
   "name": "python",
   "nbconvert_exporter": "python",
   "pygments_lexer": "ipython3",
   "version": "3.9.7"
  },
  "orig_nbformat": 4,
  "vscode": {
   "interpreter": {
    "hash": "ad2bdc8ecc057115af97d19610ffacc2b4e99fae6737bb82f5d7fb13d2f2c186"
   }
  }
 },
 "nbformat": 4,
 "nbformat_minor": 2
}
