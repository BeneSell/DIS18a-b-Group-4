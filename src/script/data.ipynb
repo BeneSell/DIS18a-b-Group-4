{
 "cells": [
  {
   "cell_type": "code",
   "execution_count": 1,
   "metadata": {},
   "outputs": [
    {
     "name": "stdout",
     "output_type": "stream",
     "text": [
      "String contains exactly one %\n"
     ]
    }
   ],
   "source": [
    "import re\n",
    "\n",
    "# short example for our precentage logic\n",
    "\n",
    "exm_1_string = \"The GC-content is 50%, and the pH is 7\"\n",
    "matches = re.findall(r\"\\%\", exm_1_string)\n",
    "if(len(matches) == 1):\n",
    "    print(\"String contains exactly one %\")\n"
   ]
  },
  {
   "cell_type": "code",
   "execution_count": 19,
   "metadata": {},
   "outputs": [
    {
     "name": "stdout",
     "output_type": "stream",
     "text": [
      "No abstract available\n",
      "No abstract available for 1 articles by total of 20 articles\n",
      "No abstract available for 0 articles by total of 20 articles\n",
      "No abstract available for 0 articles by total of 20 articles\n",
      "No abstract available for 0 articles by total of 20 articles\n",
      "No abstract available for 0 articles by total of 20 articles\n",
      "No abstract available for 0 articles by total of 20 articles\n",
      "No abstract available for 0 articles by total of 20 articles\n",
      "No abstract available for 0 articles by total of 20 articles\n",
      "No abstract available for 0 articles by total of 20 articles\n",
      "No abstract available for 0 articles by total of 20 articles\n",
      "No abstract available for 0 articles by total of 20 articles\n",
      "No abstract available for 0 articles by total of 20 articles\n",
      "No abstract available for 0 articles by total of 20 articles\n",
      "No abstract available for 0 articles by total of 20 articles\n",
      "No abstract available\n",
      "No abstract available for 1 articles by total of 20 articles\n",
      "No abstract available for 0 articles by total of 20 articles\n",
      "No abstract available for 0 articles by total of 20 articles\n",
      "No abstract available for 0 articles by total of 20 articles\n",
      "No abstract available for 0 articles by total of 20 articles\n",
      "No abstract available for 0 articles by total of 20 articles\n"
     ]
    }
   ],
   "source": [
    "from Bio import Entrez\n",
    "\n",
    "Entrez.email = \"bene6@hotmail.de\"  # Always tell NCBI who you are\n",
    "\n",
    "abstracts_with_one_perc = []\n",
    "\n",
    "# Search PubMed for articles with \"GC-content\" in the title\n",
    "for i in range(0, 400, 20):\n",
    "    handle = Entrez.esearch(db=\"pubmed\", term='(\"GC content of\" OR \"G + C content of\") AND bacterial[Title/Abstract]', retstart=i, retmax=20)\n",
    "    record = Entrez.read(handle)\n",
    "    ids = record[\"IdList\"]\n",
    "    # Process the IDs\n",
    "\n",
    "    # Get the list of article IDs\n",
    "    article_ids = record[\"IdList\"]\n",
    "\n",
    "    # Fetch the abstracts for the articles\n",
    "    handle = Entrez.efetch(db=\"pubmed\", id=article_ids, rettype=\"abstract\")\n",
    "    records = Entrez.read(handle)\n",
    "\n",
    "    # Print the abstracts\n",
    "    noAbstract = 0\n",
    "    for record in records[\"PubmedArticle\"]:\n",
    "        try:\n",
    "            temp_record = record[\"MedlineCitation\"][\"Article\"]\n",
    "            matches = re.findall(r\"\\%\", temp_record[\"Abstract\"][\"AbstractText\"][0])\n",
    "            if(len(matches) == 1):\n",
    "                abstracts_with_one_perc.append(temp_record)\n",
    "            pass\n",
    "        except KeyError:\n",
    "            print(\"No abstract available\")\n",
    "            noAbstract += 1\n",
    "    print(\"No abstract available for \" + str(noAbstract) + \" articles \"  + \"by total of \" + str(len(article_ids)) + \" articles\")\n"
   ]
  },
  {
   "cell_type": "code",
   "execution_count": 20,
   "metadata": {},
   "outputs": [
    {
     "data": {
      "text/plain": [
       "'<i>Vibrio parahaemolyticus</i> is a major foodborne pathogen and the main cause of diarrheal diseases transmitted by seafood such as fish, shrimp, and shellfish. In the current study, a novel lytic phage infecting <i>V. parahaemolyticus</i>, vB_VpaP_GHSM17, was isolated from the sewage of a seafood market, Huangsha, Guangzhou, and its morphology, biochemistry, and taxonomy features were identified. Morphological observation revealed that GHSM17 had an icosahedral head with a short, non-contractile tail. The double-stranded DNA genome of GHSM17 consisted of 43,228 bp with a GC content of 49.42%. In total, 45 putative ORFs were identified in the GHSM17 genome. Taxonomic analysis indicated GHSM17 belonging to genus <i>Maculvirus</i>, family <i>Autographiviridae.</i> In addition, GHSM17 was stable over a wide range of temperatures (20-60 °C) and pH (5-11) and was completely inactivated after 70 min of ultraviolet irradiation. The bacterial inhibition assay revealed that GHSM17 could inhibit the growth of <i>V. parahaemolyticus</i> within 8 h. The results support that phage GHSM17 may be a potential candidate in the biological control of <i>V. parahaemolyticus</i> contamination in aquaculture.'"
      ]
     },
     "execution_count": 20,
     "metadata": {},
     "output_type": "execute_result"
    }
   ],
   "source": [
    "records[\"PubmedArticle\"][0][\"MedlineCitation\"][\"Article\"][\"Abstract\"][\"AbstractText\"][0]"
   ]
  },
  {
   "cell_type": "code",
   "execution_count": 21,
   "metadata": {},
   "outputs": [
    {
     "data": {
      "text/plain": [
       "[StringElement('Journal Article', attributes={'UI': 'D016428'}), StringElement(\"Research Support, Non-U.S. Gov't\", attributes={'UI': 'D013485'})]"
      ]
     },
     "execution_count": 21,
     "metadata": {},
     "output_type": "execute_result"
    }
   ],
   "source": [
    "records[\"PubmedArticle\"][0][\"MedlineCitation\"][\"Article\"].keys()\n",
    "records[\"PubmedArticle\"][0][\"MedlineCitation\"][\"Article\"][\"PublicationTypeList\"]\n",
    "# records[\"PubmedArticle\"][0][\"MedlineCitation\"].keys()\n",
    "# records[\"PubmedArticle\"][0][\"MedlineCitation\"].keys()\n",
    "# records[\"PubmedArticle\"][0].keys()\n",
    "\n",
    "\n",
    "# records[\"PubmedArticle\"][0][\"PubmedData\"].keys()"
   ]
  },
  {
   "cell_type": "code",
   "execution_count": 22,
   "metadata": {},
   "outputs": [
    {
     "data": {
      "text/plain": [
       "[StringElement('1601', attributes={'EIdType': 'pii', 'ValidYN': 'Y'}),\n",
       " StringElement('10.3390/v14081601', attributes={'EIdType': 'doi', 'ValidYN': 'Y'})]"
      ]
     },
     "execution_count": 22,
     "metadata": {},
     "output_type": "execute_result"
    }
   ],
   "source": [
    "records[\"PubmedArticle\"][0][\"MedlineCitation\"][\"Article\"][\"ELocationID\"]"
   ]
  },
  {
   "cell_type": "code",
   "execution_count": 10,
   "metadata": {},
   "outputs": [
    {
     "ename": "AttributeError",
     "evalue": "'str' object has no attribute 'read'",
     "output_type": "error",
     "traceback": [
      "\u001b[1;31m---------------------------------------------------------------------------\u001b[0m",
      "\u001b[1;31mAttributeError\u001b[0m                            Traceback (most recent call last)",
      "\u001b[1;32m~\\AppData\\Local\\Temp/ipykernel_12844/703717210.py\u001b[0m in \u001b[0;36m<module>\u001b[1;34m\u001b[0m\n\u001b[0;32m      1\u001b[0m \u001b[1;32mimport\u001b[0m \u001b[0mjson\u001b[0m\u001b[1;33m\u001b[0m\u001b[1;33m\u001b[0m\u001b[0m\n\u001b[1;32m----> 2\u001b[1;33m he = json.load(\"\"\"[StringElement('1601', attributes={'EIdType': 'pii', 'ValidYN': 'Y'}),\n\u001b[0m\u001b[0;32m      3\u001b[0m  StringElement('10.3390/v14081601', attributes={'EIdType': 'doi', 'ValidYN': 'Y'})]\"\"\")\n",
      "\u001b[1;32mc:\\ProgramData\\Anaconda3\\lib\\json\\__init__.py\u001b[0m in \u001b[0;36mload\u001b[1;34m(fp, cls, object_hook, parse_float, parse_int, parse_constant, object_pairs_hook, **kw)\u001b[0m\n\u001b[0;32m    291\u001b[0m     \u001b[0mkwarg\u001b[0m\u001b[1;33m;\u001b[0m \u001b[0motherwise\u001b[0m\u001b[0;31m \u001b[0m\u001b[0;31m`\u001b[0m\u001b[0;31m`\u001b[0m\u001b[0mJSONDecoder\u001b[0m\u001b[0;31m`\u001b[0m\u001b[0;31m`\u001b[0m \u001b[1;32mis\u001b[0m \u001b[0mused\u001b[0m\u001b[1;33m.\u001b[0m\u001b[1;33m\u001b[0m\u001b[1;33m\u001b[0m\u001b[0m\n\u001b[0;32m    292\u001b[0m     \"\"\"\n\u001b[1;32m--> 293\u001b[1;33m     return loads(fp.read(),\n\u001b[0m\u001b[0;32m    294\u001b[0m         \u001b[0mcls\u001b[0m\u001b[1;33m=\u001b[0m\u001b[0mcls\u001b[0m\u001b[1;33m,\u001b[0m \u001b[0mobject_hook\u001b[0m\u001b[1;33m=\u001b[0m\u001b[0mobject_hook\u001b[0m\u001b[1;33m,\u001b[0m\u001b[1;33m\u001b[0m\u001b[1;33m\u001b[0m\u001b[0m\n\u001b[0;32m    295\u001b[0m         \u001b[0mparse_float\u001b[0m\u001b[1;33m=\u001b[0m\u001b[0mparse_float\u001b[0m\u001b[1;33m,\u001b[0m \u001b[0mparse_int\u001b[0m\u001b[1;33m=\u001b[0m\u001b[0mparse_int\u001b[0m\u001b[1;33m,\u001b[0m\u001b[1;33m\u001b[0m\u001b[1;33m\u001b[0m\u001b[0m\n",
      "\u001b[1;31mAttributeError\u001b[0m: 'str' object has no attribute 'read'"
     ]
    }
   ],
   "source": [
    "import json\n",
    "he = json.load(\"\"\"[StringElement('1601', attributes={'EIdType': 'pii', 'ValidYN': 'Y'}),\n",
    " StringElement('10.3390/v14081601', attributes={'EIdType': 'doi', 'ValidYN': 'Y'})]\"\"\")"
   ]
  },
  {
   "cell_type": "code",
   "execution_count": 23,
   "metadata": {},
   "outputs": [],
   "source": [
    "# abstracts_with_one_perc[0]\n",
    "matches = re.findall(r\"\\%\", abstracts_with_one_perc[0][\"Abstract\"][\"AbstractText\"][0])\n",
    "if(len(matches) > 1):\n",
    "    print(\"String contains more than one percent symbol\")"
   ]
  },
  {
   "cell_type": "code",
   "execution_count": 24,
   "metadata": {},
   "outputs": [
    {
     "data": {
      "text/plain": [
       "73"
      ]
     },
     "execution_count": 24,
     "metadata": {},
     "output_type": "execute_result"
    }
   ],
   "source": [
    "len(abstracts_with_one_perc)"
   ]
  },
  {
   "cell_type": "code",
   "execution_count": 25,
   "metadata": {},
   "outputs": [],
   "source": [
    "import pandas as pd\n",
    "abstracts_with_one_perc[0]\n",
    "\n",
    "pd.DataFrame([x[\"Abstract\"][\"AbstractText\"] for x in abstracts_with_one_perc]).to_csv(\"test.csv\", index=None)"
   ]
  },
  {
   "cell_type": "code",
   "execution_count": 26,
   "metadata": {},
   "outputs": [
    {
     "name": "stdout",
     "output_type": "stream",
     "text": [
      "Is the data for Variovorax with \" 70)%, r \" correct? (y/n/m)\n",
      "Is the data for Psychrobacter with \" 4.1% G+ \" correct? (y/n/m)\n",
      "Is the data for None with None correct? (y/n/m)\n",
      "Is the data for Roseiflexus with \" 0.5% re \" correct? (y/n/m)\n",
      "Is the data for None with None correct? (y/n/m)\n",
      "Is the data for Myxococcus with \" 7.5% an \" correct? (y/n/m)\n",
      "Is the data for Sphingomonas with \" .1 %, r \" correct? (y/n/m)\n"
     ]
    },
    {
     "ename": "KeyboardInterrupt",
     "evalue": "Interrupted by user",
     "output_type": "error",
     "traceback": [
      "\u001b[1;31m---------------------------------------------------------------------------\u001b[0m",
      "\u001b[1;31mKeyboardInterrupt\u001b[0m                         Traceback (most recent call last)",
      "\u001b[1;32m~\\AppData\\Local\\Temp/ipykernel_20280/1947158639.py\u001b[0m in \u001b[0;36m<module>\u001b[1;34m\u001b[0m\n\u001b[0;32m     31\u001b[0m     \u001b[0mprint\u001b[0m\u001b[1;33m(\u001b[0m\u001b[1;34m\"Is the data for \"\u001b[0m \u001b[1;33m+\u001b[0m \u001b[0mstr\u001b[0m\u001b[1;33m(\u001b[0m\u001b[0mhopefully_bacterial\u001b[0m\u001b[1;33m)\u001b[0m \u001b[1;33m+\u001b[0m \u001b[1;34m\" with \"\u001b[0m \u001b[1;33m+\u001b[0m \u001b[0mstr\u001b[0m\u001b[1;33m(\u001b[0m\u001b[0mhopefully_percentage_for_bacterial\u001b[0m\u001b[1;33m)\u001b[0m \u001b[1;33m+\u001b[0m \u001b[1;34m\" correct? (y/n/m)\"\u001b[0m\u001b[1;33m)\u001b[0m\u001b[1;33m\u001b[0m\u001b[1;33m\u001b[0m\u001b[0m\n\u001b[0;32m     32\u001b[0m     \u001b[1;32mwhile\u001b[0m\u001b[1;33m(\u001b[0m\u001b[0mis_valuable_data\u001b[0m \u001b[1;33m!=\u001b[0m \u001b[1;34m\"y\"\u001b[0m \u001b[1;32mand\u001b[0m \u001b[0mis_valuable_data\u001b[0m \u001b[1;33m!=\u001b[0m \u001b[1;34m\"n\"\u001b[0m \u001b[1;32mand\u001b[0m \u001b[0mis_valuable_data\u001b[0m \u001b[1;33m!=\u001b[0m \u001b[1;34m\"m\"\u001b[0m\u001b[1;33m)\u001b[0m\u001b[1;33m:\u001b[0m\u001b[1;33m\u001b[0m\u001b[1;33m\u001b[0m\u001b[0m\n\u001b[1;32m---> 33\u001b[1;33m         \u001b[0mis_valuable_data\u001b[0m \u001b[1;33m=\u001b[0m \u001b[0minput\u001b[0m\u001b[1;33m(\u001b[0m\u001b[1;34m\"Is the data for \"\u001b[0m \u001b[1;33m+\u001b[0m \u001b[0mstr\u001b[0m\u001b[1;33m(\u001b[0m\u001b[0mhopefully_bacterial\u001b[0m\u001b[1;33m)\u001b[0m \u001b[1;33m+\u001b[0m \u001b[1;34m\" with \"\u001b[0m \u001b[1;33m+\u001b[0m \u001b[0mstr\u001b[0m\u001b[1;33m(\u001b[0m\u001b[0mhopefully_percentage_for_bacterial\u001b[0m\u001b[1;33m)\u001b[0m \u001b[1;33m+\u001b[0m \u001b[1;34m\" correct? (y/n/m)\"\u001b[0m\u001b[1;33m)\u001b[0m\u001b[1;33m\u001b[0m\u001b[1;33m\u001b[0m\u001b[0m\n\u001b[0m\u001b[0;32m     34\u001b[0m \u001b[1;33m\u001b[0m\u001b[0m\n\u001b[0;32m     35\u001b[0m     \u001b[0mhopefull_dict\u001b[0m \u001b[1;33m=\u001b[0m \u001b[1;33m{\u001b[0m\u001b[0mhopefully_bacterial\u001b[0m\u001b[1;33m:\u001b[0m \u001b[0mhopefully_percentage_for_bacterial\u001b[0m\u001b[1;33m,\u001b[0m \u001b[1;34m\"is_valuable_data\"\u001b[0m\u001b[1;33m:\u001b[0m \u001b[0mis_valuable_data\u001b[0m\u001b[1;33m}\u001b[0m\u001b[1;33m\u001b[0m\u001b[1;33m\u001b[0m\u001b[0m\n",
      "\u001b[1;32mc:\\ProgramData\\Anaconda3\\lib\\site-packages\\ipykernel\\kernelbase.py\u001b[0m in \u001b[0;36mraw_input\u001b[1;34m(self, prompt)\u001b[0m\n\u001b[0;32m   1004\u001b[0m                 \u001b[1;34m\"raw_input was called, but this frontend does not support input requests.\"\u001b[0m\u001b[1;33m\u001b[0m\u001b[1;33m\u001b[0m\u001b[0m\n\u001b[0;32m   1005\u001b[0m             )\n\u001b[1;32m-> 1006\u001b[1;33m         return self._input_request(\n\u001b[0m\u001b[0;32m   1007\u001b[0m             \u001b[0mstr\u001b[0m\u001b[1;33m(\u001b[0m\u001b[0mprompt\u001b[0m\u001b[1;33m)\u001b[0m\u001b[1;33m,\u001b[0m\u001b[1;33m\u001b[0m\u001b[1;33m\u001b[0m\u001b[0m\n\u001b[0;32m   1008\u001b[0m             \u001b[0mself\u001b[0m\u001b[1;33m.\u001b[0m\u001b[0m_parent_ident\u001b[0m\u001b[1;33m[\u001b[0m\u001b[1;34m\"shell\"\u001b[0m\u001b[1;33m]\u001b[0m\u001b[1;33m,\u001b[0m\u001b[1;33m\u001b[0m\u001b[1;33m\u001b[0m\u001b[0m\n",
      "\u001b[1;32mc:\\ProgramData\\Anaconda3\\lib\\site-packages\\ipykernel\\kernelbase.py\u001b[0m in \u001b[0;36m_input_request\u001b[1;34m(self, prompt, ident, parent, password)\u001b[0m\n\u001b[0;32m   1049\u001b[0m             \u001b[1;32mexcept\u001b[0m \u001b[0mKeyboardInterrupt\u001b[0m\u001b[1;33m:\u001b[0m\u001b[1;33m\u001b[0m\u001b[1;33m\u001b[0m\u001b[0m\n\u001b[0;32m   1050\u001b[0m                 \u001b[1;31m# re-raise KeyboardInterrupt, to truncate traceback\u001b[0m\u001b[1;33m\u001b[0m\u001b[1;33m\u001b[0m\u001b[0m\n\u001b[1;32m-> 1051\u001b[1;33m                 \u001b[1;32mraise\u001b[0m \u001b[0mKeyboardInterrupt\u001b[0m\u001b[1;33m(\u001b[0m\u001b[1;34m\"Interrupted by user\"\u001b[0m\u001b[1;33m)\u001b[0m \u001b[1;32mfrom\u001b[0m \u001b[1;32mNone\u001b[0m\u001b[1;33m\u001b[0m\u001b[1;33m\u001b[0m\u001b[0m\n\u001b[0m\u001b[0;32m   1052\u001b[0m             \u001b[1;32mexcept\u001b[0m \u001b[0mException\u001b[0m\u001b[1;33m:\u001b[0m\u001b[1;33m\u001b[0m\u001b[1;33m\u001b[0m\u001b[0m\n\u001b[0;32m   1053\u001b[0m                 \u001b[0mself\u001b[0m\u001b[1;33m.\u001b[0m\u001b[0mlog\u001b[0m\u001b[1;33m.\u001b[0m\u001b[0mwarning\u001b[0m\u001b[1;33m(\u001b[0m\u001b[1;34m\"Invalid Message:\"\u001b[0m\u001b[1;33m,\u001b[0m \u001b[0mexc_info\u001b[0m\u001b[1;33m=\u001b[0m\u001b[1;32mTrue\u001b[0m\u001b[1;33m)\u001b[0m\u001b[1;33m\u001b[0m\u001b[1;33m\u001b[0m\u001b[0m\n",
      "\u001b[1;31mKeyboardInterrupt\u001b[0m: Interrupted by user"
     ]
    }
   ],
   "source": [
    "hopefull_dicts = []\n",
    "\n",
    "# give the one <i> tag which is the nearest to the % sign\n",
    "\n",
    "# Add DOI to the dict\n",
    "# Add Abstract to the dict\n",
    "# ETC\n",
    "\n",
    "\n",
    "for pre_x in abstracts_with_one_perc:\n",
    "    x = pre_x[\"Abstract\"][\"AbstractText\"][0]\n",
    "    \n",
    "    # Extract the content between the tags\n",
    "    result = re.search(r\"<i>(.*?)</i>\", x)\n",
    "    if result:\n",
    "        hopefully_bacterial = result.group(1)\n",
    "    else:\n",
    "        hopefully_bacterial = None\n",
    "\n",
    "\n",
    "    # Extract the precentage value\n",
    "    \n",
    "    # give me everything which is close to the % sign\n",
    "    result = re.search(r\"(.{3}\\%.{3})\", x)\n",
    "    if result:\n",
    "        hopefully_percentage_for_bacterial =str('\" ' + result.group(1) + ' \"')\n",
    "    else:\n",
    "        hopefully_percentage_for_bacterial = None\n",
    "\n",
    "    is_valuable_data = \"\"\n",
    "    print(\"Is the data for \" + str(hopefully_bacterial) + \" with \" + str(hopefully_percentage_for_bacterial) + \" correct? (y/n/m)\")\n",
    "    \n",
    "    while(is_valuable_data != \"y\" and is_valuable_data != \"n\" and is_valuable_data != \"m\"):\n",
    "        is_valuable_data = input(\"Is the data for \" + str(hopefully_bacterial) + \" with \" + str(hopefully_percentage_for_bacterial) + \" correct? (y/n/m)\")\n",
    "\n",
    "    hopefull_dict = {hopefully_bacterial: hopefully_percentage_for_bacterial, \"is_valuable_data\": is_valuable_data}\n",
    "\n",
    "    hopefull_dicts.append(hopefull_dict)\n",
    "\n",
    "# show only dicts with a value and a key\n",
    "# hopefull_dicts = [x for x in hopefull_dicts if list(x.keys())[0] is not None and list(x.values())[0] is not None]\n",
    "hopefull_dicts\n",
    "# how do we verify?\n",
    "\n",
    "\n",
    "\n"
   ]
  },
  {
   "cell_type": "code",
   "execution_count": 19,
   "metadata": {},
   "outputs": [
    {
     "data": {
      "text/plain": [
       "[{'amoA': '2%', 'is_valuable_data': 'm'},\n",
       " {'Caragana microphylla, Caragana liouana': '1%', 'is_valuable_data': 'm'},\n",
       " {'E. coli': '7.4%', 'is_valuable_data': 'm'},\n",
       " {'Haliclona (Rhizoniera)': '80%', 'is_valuable_data': 'm'},\n",
       " {'Oceanobacillus jordanicus': '39.09%', 'is_valuable_data': 'm'},\n",
       " {'Xanthomonas oryzae': '63.7%', 'is_valuable_data': 'm'},\n",
       " {'Bacillus': '41.41%', 'is_valuable_data': 'm'},\n",
       " {'Streptomyces': '71.80%', 'is_valuable_data': 'm'},\n",
       " {'Paenibacillus': '46%', 'is_valuable_data': 'm'},\n",
       " {'Enterobacter roggenkampii': '56.16%', 'is_valuable_data': 'm'},\n",
       " {'Pseudarthrobacter phenanthrenivorans': '65.30%', 'is_valuable_data': 'm'}]"
      ]
     },
     "execution_count": 19,
     "metadata": {},
     "output_type": "execute_result"
    }
   ],
   "source": [
    "# only show the ones which are valuable\n",
    "[x for x in hopefull_dicts if x[\"is_valuable_data\"] == \"m\"]"
   ]
  },
  {
   "cell_type": "code",
   "execution_count": 14,
   "metadata": {},
   "outputs": [],
   "source": [
    "import pandas as pd\n",
    "# read csv Simulation.csv \n",
    "\n",
    "\n",
    "random_df = pd.read_csv(\"Simulation.csv\", sep=\";\")"
   ]
  },
  {
   "cell_type": "code",
   "execution_count": 16,
   "metadata": {},
   "outputs": [],
   "source": [
    "random_df.to_csv(\"Simulation_good_csv.csv\", sep=\",\", index=False, quoting=1)"
   ]
  },
  {
   "cell_type": "code",
   "execution_count": 27,
   "metadata": {},
   "outputs": [],
   "source": [
    "# start python script in git bash python \"C:\\OneDrive\\Technische Hochschule\\DIS18a-b\\repo\\DIS18a-b-Group-4\\src\\script/test_python.py\"\n"
   ]
  },
  {
   "cell_type": "code",
   "execution_count": 5,
   "metadata": {},
   "outputs": [],
   "source": [
    "# import orkg_test_data.csv\n",
    "import pandas as pd\n",
    "orkg_df = pd.read_csv(\"orkg_test_data.csv\", sep=\"\\t\", encoding=\"latin-1\").to_csv(\"orkg_test_data_comma.csv\", sep=\",\", index=False, quoting=1)"
   ]
  },
  {
   "cell_type": "code",
   "execution_count": 6,
   "metadata": {},
   "outputs": [
    {
     "ename": "NameError",
     "evalue": "name 'pprint' is not defined",
     "output_type": "error",
     "traceback": [
      "\u001b[1;31m---------------------------------------------------------------------------\u001b[0m",
      "\u001b[1;31mNameError\u001b[0m                                 Traceback (most recent call last)",
      "\u001b[1;32m~\\AppData\\Local\\Temp/ipykernel_12844/1362551081.py\u001b[0m in \u001b[0;36m<module>\u001b[1;34m\u001b[0m\n\u001b[1;32m----> 1\u001b[1;33m \u001b[0mpprint\u001b[0m\u001b[1;33m.\u001b[0m\u001b[0mpprint\u001b[0m\u001b[1;33m(\u001b[0m\u001b[0morkg_df\u001b[0m\u001b[1;33m)\u001b[0m\u001b[1;33m\u001b[0m\u001b[1;33m\u001b[0m\u001b[0m\n\u001b[0m",
      "\u001b[1;31mNameError\u001b[0m: name 'pprint' is not defined"
     ]
    }
   ],
   "source": [
    "pprint.pprint(orkg_df)"
   ]
  },
  {
   "cell_type": "code",
   "execution_count": 20,
   "metadata": {},
   "outputs": [
    {
     "data": {
      "text/html": [
       "<pre style=\"white-space:pre;overflow-x:auto;line-height:normal;font-family:Menlo,'DejaVu Sans Mono',consolas,'Courier New',monospace\">Send funds to money@example.org\n",
       "</pre>\n"
      ],
      "text/plain": [
       "Send funds to money@example.org\n"
      ]
     },
     "metadata": {},
     "output_type": "display_data"
    },
    {
     "data": {
      "text/html": [
       "<pre style=\"white-space:pre;overflow-x:auto;line-height:normal;font-family:Menlo,'DejaVu Sans Mono',consolas,'Courier New',monospace\"><span style=\"color: #008000; text-decoration-color: #008000; font-weight: bold\">Bold and red</span> not bold or red\n",
       "</pre>\n"
      ],
      "text/plain": [
       "\u001b[1;32mBold and red\u001b[0m not bold or red\n"
      ]
     },
     "metadata": {},
     "output_type": "display_data"
    },
    {
     "data": {
      "text/html": [
       "<pre style=\"white-space:pre;overflow-x:auto;line-height:normal;font-family:Menlo,'DejaVu Sans Mono',consolas,'Courier New',monospace\"><span style=\"color: #800080; text-decoration-color: #800080; font-weight: bold\">Hello</span> World!\n",
       "</pre>\n"
      ],
      "text/plain": [
       "\u001b[1;35mHello\u001b[0m World!\n"
      ]
     },
     "metadata": {},
     "output_type": "display_data"
    },
    {
     "data": {
      "text/html": [
       "<pre style=\"white-space:pre;overflow-x:auto;line-height:normal;font-family:Menlo,'DejaVu Sans Mono',consolas,'Courier New',monospace\">╭─────────────────────────────────────────────────────────────────────────────────────────────────────────────────╮\n",
       "│                                                                                                                 │\n",
       "│ [bold green]jährliche Wachstumsrate (CAGR 2023-2028) von 4,30% [/bold green]                                    │\n",
       "│ Im globalen Vergleich wird der größte Teil des Umsatzes in den USA erwartet                                     │\n",
       "│ Dank seiner multifunktionalen Anwendung und gesundheitsfördernden Eigenschaften ist er ein essenzieller         │\n",
       "│ Bestandteil des Gesundheitssektors, der stetig wächst.                                                          │\n",
       "│ stabile Wachstum des Markts für Medizintechnik ist die alternde Bevölkerung                                     │\n",
       "│ Kapitalfluss in die Forschung und Entwicklung,                                                                  │\n",
       "│ den Ausbau von Gesundheitsdiensten                                                                              │\n",
       "│ die Umsetzung der derzeitigen technologischen Veränderungen                                                     │\n",
       "│ Wachstumsraten wird die Digitalisierung sein – mit der technologischen Entwicklung von mehr maßgeschneiderten   │\n",
       "│ und datengesteuerten Produkten                                                                                  │\n",
       "│                                                                                                                 │\n",
       "│                                                                                                                 │\n",
       "╰─────────────────────────────────────────────────────────────────────────────────────────────────────────────────╯\n",
       "</pre>\n"
      ],
      "text/plain": [
       "╭─────────────────────────────────────────────────────────────────────────────────────────────────────────────────╮\n",
       "│                                                                                                                 │\n",
       "│ [bold green]jährliche Wachstumsrate (CAGR 2023-2028) von 4,30% [/bold green]                                    │\n",
       "│ Im globalen Vergleich wird der größte Teil des Umsatzes in den USA erwartet                                     │\n",
       "│ Dank seiner multifunktionalen Anwendung und gesundheitsfördernden Eigenschaften ist er ein essenzieller         │\n",
       "│ Bestandteil des Gesundheitssektors, der stetig wächst.                                                          │\n",
       "│ stabile Wachstum des Markts für Medizintechnik ist die alternde Bevölkerung                                     │\n",
       "│ Kapitalfluss in die Forschung und Entwicklung,                                                                  │\n",
       "│ den Ausbau von Gesundheitsdiensten                                                                              │\n",
       "│ die Umsetzung der derzeitigen technologischen Veränderungen                                                     │\n",
       "│ Wachstumsraten wird die Digitalisierung sein – mit der technologischen Entwicklung von mehr maßgeschneiderten   │\n",
       "│ und datengesteuerten Produkten                                                                                  │\n",
       "│                                                                                                                 │\n",
       "│                                                                                                                 │\n",
       "╰─────────────────────────────────────────────────────────────────────────────────────────────────────────────────╯\n"
      ]
     },
     "metadata": {},
     "output_type": "display_data"
    },
    {
     "data": {
      "text/html": [
       "<pre style=\"white-space:pre;overflow-x:auto;line-height:normal;font-family:Menlo,'DejaVu Sans Mono',consolas,'Courier New',monospace\">The GC-content is <span style=\"color: #008000; text-decoration-color: #008000; font-weight: bold\">Bacteria</span> 50%, and the pH is 7\n",
       "</pre>\n"
      ],
      "text/plain": [
       "The GC-content is \u001b[1;32mBacteria\u001b[0m 50%, and the pH is 7\n"
      ]
     },
     "metadata": {},
     "output_type": "display_data"
    },
    {
     "data": {
      "text/html": [
       "<pre style=\"white-space:pre;overflow-x:auto;line-height:normal;font-family:Menlo,'DejaVu Sans Mono',consolas,'Courier New',monospace\"><span style=\"font-weight: bold\">[</span><span style=\"color: #008000; text-decoration-color: #008000\">'The GC-content is '</span>, <span style=\"color: #008000; text-decoration-color: #008000\">' 50%, and the pH is 7'</span><span style=\"font-weight: bold\">]</span>\n",
       "</pre>\n"
      ],
      "text/plain": [
       "\u001b[1m[\u001b[0m\u001b[32m'The GC-content is '\u001b[0m, \u001b[32m' 50%, and the pH is 7'\u001b[0m\u001b[1m]\u001b[0m\n"
      ]
     },
     "metadata": {},
     "output_type": "display_data"
    }
   ],
   "source": [
    "from rich import print\n",
    "from rich.panel import Panel\n",
    "from rich.text import Text\n",
    "from rich.console import Console\n",
    "from rich.highlighter import RegexHighlighter\n",
    "from rich.theme import Theme\n",
    "\n",
    "class EmailHighlighter(RegexHighlighter):\n",
    "    \"\"\"Apply style to anything that looks like an email.\"\"\"\n",
    "\n",
    "    base_style = \"example.\"\n",
    "    highlights = [r\"(?P<email>[\\w-]+@([\\w-]+\\.)+[\\w-]+)\"]\n",
    "\n",
    "custom_theme = Theme({\n",
    "    \"info\": \"dim cyan\",\n",
    "    \"warning\": \"magenta\",\n",
    "    \"danger\": \"bold red\"\n",
    "})\n",
    "\n",
    "\n",
    "theme = Theme({\"example.email\": \"bold magenta\"})\n",
    "console = Console(highlighter=EmailHighlighter(), theme=custom_theme)\n",
    "console.print(\"Send funds to money@example.org\")\n",
    "\n",
    "print(\"[bold green]Bold and red[/] not bold or red\")\n",
    "\n",
    "text = Text.assemble((\"Hello\", \"bold magenta\"), \" World!\")\n",
    "console.print(text)\n",
    "\n",
    "panel = Panel(Text(\"\"\"\n",
    "[bold green]jährliche Wachstumsrate (CAGR 2023-2028) von 4,30% [/bold green]\n",
    "Im globalen Vergleich wird der größte Teil des Umsatzes in den USA erwartet \n",
    "Dank seiner multifunktionalen Anwendung und gesundheitsfördernden Eigenschaften ist er ein essenzieller Bestandteil des Gesundheitssektors, der stetig wächst. \n",
    "stabile Wachstum des Markts für Medizintechnik ist die alternde Bevölkerung\n",
    "Kapitalfluss in die Forschung und Entwicklung, \n",
    "den Ausbau von Gesundheitsdiensten \n",
    "die Umsetzung der derzeitigen technologischen Veränderungen\n",
    "Wachstumsraten wird die Digitalisierung sein – mit der technologischen Entwicklung von mehr maßgeschneiderten und datengesteuerten Produkten\n",
    "\n",
    "\"\"\", justify=\"Left\"))\n",
    "print(panel)\n",
    "\n",
    "class bcolors:\n",
    "    HEADER = '\\033[95m'\n",
    "    OKBLUE = '\\033[94m'\n",
    "    OKCYAN = '\\033[96m'\n",
    "    OKGREEN = '\\033[92m'\n",
    "    WARNING = '\\033[93m'\n",
    "    FAIL = '\\033[91m'\n",
    "    ENDC = '\\033[0m'\n",
    "    BOLD = '\\033[1m'\n",
    "    UNDERLINE = '\\033[4m'\n",
    "\n",
    "x = \"The GC-content is Bacteria 50%, and the pH is 7\"\n",
    "hopefully_bacterial = \"Bacteria\"\n",
    "hopefully_percentage_for_bacterial = \"50%\"\n",
    "\n",
    "string_to_show = x.replace(hopefully_bacterial, bcolors.OKGREEN + hopefully_bacterial + bcolors.ENDC).replace(hopefully_percentage_for_bacterial, bcolors.OKGREEN + hopefully_percentage_for_bacterial + bcolors.ENDC)\n",
    "# split instead of replace\n",
    "string_to_show = x.split(hopefully_bacterial)\n",
    "\n",
    "text = Text.assemble(string_to_show[0],(hopefully_bacterial, \"bold green\"), string_to_show[1])\n",
    "\n",
    "console.print(text)\n",
    "\n",
    "print(string_to_show)"
   ]
  },
  {
   "cell_type": "code",
   "execution_count": 24,
   "metadata": {},
   "outputs": [
    {
     "data": {
      "text/html": [
       "<pre style=\"white-space:pre;overflow-x:auto;line-height:normal;font-family:Menlo,'DejaVu Sans Mono',consolas,'Courier New',monospace\">This is <span style=\"color: #008000; text-decoration-color: #008000; font-weight: bold\">hopefully_bacterial</span> with <span style=\"color: #008000; text-decoration-color: #008000; font-weight: bold\">hopefully_percentage_for_bacterial</span>% accuracy. <span style=\"color: #008000; text-decoration-color: #008000; font-weight: bold\">hopefully_bacterial</span> \n",
       "<span style=\"color: #008000; text-decoration-color: #008000; font-weight: bold\">hopefully_bacterial</span>\n",
       "</pre>\n"
      ],
      "text/plain": [
       "This is \u001b[1;32mhopefully_bacterial\u001b[0m with \u001b[1;32mhopefully_percentage_for_bacterial\u001b[0m% accuracy. \u001b[1;32mhopefully_bacterial\u001b[0m \n",
       "\u001b[1;32mhopefully_bacterial\u001b[0m\n"
      ]
     },
     "metadata": {},
     "output_type": "display_data"
    }
   ],
   "source": [
    "from rich import print\n",
    "from rich.text import Text\n",
    "\n",
    "# Define the text and the strings to mark\n",
    "text = \"This is hopefully_bacterial with hopefully_percentage_for_bacterial% accuracy. hopefully_bacterial hopefully_bacterial\"\n",
    "hopefully_bacterial = \"hopefully_bacterial\"\n",
    "hopefully_percentage_for_bacterial = \"hopefully_percentage_for_bacterial\"\n",
    "\n",
    "# Create a Text object to hold the styled text\n",
    "styled_text = Text(text)\n",
    "\n",
    "# Mark the occurrences of hopefully_bacterial with the desired style\n",
    "styled_text.highlight_regex(hopefully_bacterial, \"bold green\")\n",
    "\n",
    "# Mark the occurrences of hopefully_percentage_for_bacterial with the desired style\n",
    "styled_text.highlight_regex(hopefully_percentage_for_bacterial, \"bold green\")\n",
    "\n",
    "# Print the styled text\n",
    "print(styled_text)"
   ]
  },
  {
   "cell_type": "code",
   "execution_count": null,
   "metadata": {},
   "outputs": [],
   "source": []
  }
 ],
 "metadata": {
  "kernelspec": {
   "display_name": "Python 3.9.7 ('base')",
   "language": "python",
   "name": "python3"
  },
  "language_info": {
   "codemirror_mode": {
    "name": "ipython",
    "version": 3
   },
   "file_extension": ".py",
   "mimetype": "text/x-python",
   "name": "python",
   "nbconvert_exporter": "python",
   "pygments_lexer": "ipython3",
   "version": "3.9.7"
  },
  "orig_nbformat": 4,
  "vscode": {
   "interpreter": {
    "hash": "ad2bdc8ecc057115af97d19610ffacc2b4e99fae6737bb82f5d7fb13d2f2c186"
   }
  }
 },
 "nbformat": 4,
 "nbformat_minor": 2
}
