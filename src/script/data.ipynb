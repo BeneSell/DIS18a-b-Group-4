{
 "cells": [
  {
   "cell_type": "code",
   "execution_count": 1,
   "metadata": {},
   "outputs": [
    {
     "name": "stdout",
     "output_type": "stream",
     "text": [
      "String contains exactly one %\n"
     ]
    }
   ],
   "source": [
    "import re\n",
    "\n",
    "# short example for our precentage logic\n",
    "\n",
    "exm_1_string = \"The GC-content is 50%, and the pH is 7\"\n",
    "matches = re.findall(r\"\\%\", exm_1_string)\n",
    "if(len(matches) == 1):\n",
    "    print(\"String contains exactly one %\")\n"
   ]
  },
  {
   "cell_type": "code",
   "execution_count": 4,
   "metadata": {},
   "outputs": [
    {
     "name": "stdout",
     "output_type": "stream",
     "text": [
      "No abstract available for 0 articles by total of 20 articles\n",
      "No abstract available\n",
      "No abstract available for 1 articles by total of 20 articles\n",
      "No abstract available for 0 articles by total of 20 articles\n",
      "No abstract available for 0 articles by total of 20 articles\n",
      "No abstract available for 0 articles by total of 20 articles\n",
      "No abstract available for 0 articles by total of 20 articles\n",
      "No abstract available for 0 articles by total of 20 articles\n",
      "No abstract available for 0 articles by total of 20 articles\n",
      "No abstract available for 0 articles by total of 20 articles\n",
      "No abstract available for 0 articles by total of 20 articles\n"
     ]
    }
   ],
   "source": [
    "from Bio import Entrez\n",
    "\n",
    "Entrez.email = \"bene6@hotmail.de\"  # Always tell NCBI who you are\n",
    "\n",
    "abstracts_with_one_perc = []\n",
    "\n",
    "# Search PubMed for articles with \"GC-content\" in the title\n",
    "for i in range(0, 200, 20):\n",
    "    handle = Entrez.esearch(db=\"pubmed\", term=\"GC content bacterial[Title]\", retstart=i, retmax=20)\n",
    "    record = Entrez.read(handle)\n",
    "    ids = record[\"IdList\"]\n",
    "    # Process the IDs\n",
    "\n",
    "    # Get the list of article IDs\n",
    "    article_ids = record[\"IdList\"]\n",
    "\n",
    "    # Fetch the abstracts for the articles\n",
    "    handle = Entrez.efetch(db=\"pubmed\", id=article_ids, rettype=\"abstract\")\n",
    "    records = Entrez.read(handle)\n",
    "\n",
    "    # Print the abstracts\n",
    "    noAbstract = 0\n",
    "    for record in records[\"PubmedArticle\"]:\n",
    "        try:\n",
    "            temp_record = record[\"MedlineCitation\"][\"Article\"]\n",
    "            matches = re.findall(r\"\\%\", temp_record[\"Abstract\"][\"AbstractText\"][0])\n",
    "            if(len(matches) == 1):\n",
    "                abstracts_with_one_perc.append(temp_record)\n",
    "            pass\n",
    "        except KeyError:\n",
    "            print(\"No abstract available\")\n",
    "            noAbstract += 1\n",
    "    print(\"No abstract available for \" + str(noAbstract) + \" articles \"  + \"by total of \" + str(len(article_ids)) + \" articles\")\n"
   ]
  },
  {
   "cell_type": "code",
   "execution_count": 5,
   "metadata": {},
   "outputs": [
    {
     "data": {
      "text/plain": [
       "\"Despite the successful application of LNA/2'OMe-FISH procedures for bacteria detection, there is a lack of knowledge on the properties that affect hybridization. Such information is crucial for the rational design of protocols. Hence, this work aimed to evaluate the effect of three essential factors on the LNA/2'OMe hybridization step-hybridization temperature, NaCl concentration and type and concentration of denaturant (formamide, ethylene carbonate and urea). This optimization was performed for 3 Gram-negative bacteria (Escherichia coli, Pseudomonas aeruginosa and Citrobacter freundii) and 2 Gram-positive bacteria (Enterococcus faecalis and Staphylococcus epidermidis), employing the response surface methodology and a Eubacteria probe. In general, it was observed that a high NaCl concentration is beneficial (from 2 M to 5 M), regardless of the denaturant used. Urea, formamide and ethylene carbonate are suitable denaturants for LNA/2'OMe-FISH applications; but urea provides higher fluorescence intensities among the different bacteria, especially for gram-positive bacteria and for P. aeruginosa. However, a unique optimal protocol was not found for all tested bacteria. Despite this, the results indicate that a hybridization solution with 2 M of urea and 4 M of NaCl would be a proper starting point. Furthermore, a hybridization temperature around 62°C, for 14 bp probes with LNA monomers at every third position of 2'OMe and 64% of GC content, should be use in initial optimization of new LNA/2'OMe-FISH protocols.\""
      ]
     },
     "execution_count": 5,
     "metadata": {},
     "output_type": "execute_result"
    }
   ],
   "source": [
    "records[\"PubmedArticle\"][0][\"MedlineCitation\"][\"Article\"][\"Abstract\"][\"AbstractText\"][0]"
   ]
  },
  {
   "cell_type": "code",
   "execution_count": 6,
   "metadata": {},
   "outputs": [
    {
     "data": {
      "text/plain": [
       "[StringElement('Journal Article', attributes={'UI': 'D016428'}), StringElement(\"Research Support, Non-U.S. Gov't\", attributes={'UI': 'D013485'})]"
      ]
     },
     "execution_count": 6,
     "metadata": {},
     "output_type": "execute_result"
    }
   ],
   "source": [
    "records[\"PubmedArticle\"][0][\"MedlineCitation\"][\"Article\"].keys()\n",
    "records[\"PubmedArticle\"][0][\"MedlineCitation\"][\"Article\"][\"PublicationTypeList\"]\n",
    "# records[\"PubmedArticle\"][0][\"MedlineCitation\"].keys()\n",
    "# records[\"PubmedArticle\"][0][\"MedlineCitation\"].keys()\n",
    "# records[\"PubmedArticle\"][0].keys()\n",
    "\n",
    "\n",
    "# records[\"PubmedArticle\"][0][\"PubmedData\"].keys()"
   ]
  },
  {
   "cell_type": "code",
   "execution_count": 7,
   "metadata": {},
   "outputs": [
    {
     "data": {
      "text/plain": [
       "[StringElement('e0217689', attributes={'EIdType': 'pii', 'ValidYN': 'Y'}),\n",
       " StringElement('10.1371/journal.pone.0217689', attributes={'EIdType': 'doi', 'ValidYN': 'Y'})]"
      ]
     },
     "execution_count": 7,
     "metadata": {},
     "output_type": "execute_result"
    }
   ],
   "source": [
    "records[\"PubmedArticle\"][0][\"MedlineCitation\"][\"Article\"][\"ELocationID\"]"
   ]
  },
  {
   "cell_type": "code",
   "execution_count": 8,
   "metadata": {},
   "outputs": [],
   "source": [
    "# abstracts_with_one_perc[0]\n",
    "matches = re.findall(r\"\\%\", abstracts_with_one_perc[0][\"Abstract\"][\"AbstractText\"][0])\n",
    "if(len(matches) > 1):\n",
    "    print(\"String contains more than one percent symbol\")"
   ]
  },
  {
   "cell_type": "code",
   "execution_count": 9,
   "metadata": {},
   "outputs": [
    {
     "data": {
      "text/plain": [
       "35"
      ]
     },
     "execution_count": 9,
     "metadata": {},
     "output_type": "execute_result"
    }
   ],
   "source": [
    "len(abstracts_with_one_perc)"
   ]
  },
  {
   "cell_type": "code",
   "execution_count": 11,
   "metadata": {},
   "outputs": [],
   "source": [
    "import pandas as pd\n",
    "abstracts_with_one_perc[0]\n",
    "\n",
    "pd.DataFrame([x[\"Abstract\"][\"AbstractText\"] for x in abstracts_with_one_perc]).to_csv(\"test.csv\", index=None)"
   ]
  },
  {
   "cell_type": "code",
   "execution_count": 17,
   "metadata": {},
   "outputs": [
    {
     "name": "stdout",
     "output_type": "stream",
     "text": [
      "Is the data for None with 43.88% correct? (y/n/m)\n",
      "Is the data for None with 56% correct? (y/n/m)\n",
      "Is the data for None with 53.50% correct? (y/n/m)\n",
      "Is the data for None with 51.68% correct? (y/n/m)\n",
      "Is the data for Martelella soudanensis with None correct? (y/n/m)\n",
      "Is the data for None with None correct? (y/n/m)\n",
      "Is the data for amoA with 2% correct? (y/n/m)\n",
      "Is the data for Caragana microphylla, Caragana liouana with 1% correct? (y/n/m)\n",
      "Is the data for None with 96.63% correct? (y/n/m)\n",
      "Is the data for E. coli with 7.4% correct? (y/n/m)\n",
      "Is the data for Haliclona (Rhizoniera) with 80% correct? (y/n/m)\n",
      "Is the data for Oceanobacillus jordanicus with 39.09% correct? (y/n/m)\n",
      "Is the data for Lactobacillus rhamnosus with None correct? (y/n/m)\n",
      "Is the data for Pediococcus pentosaceus with None correct? (y/n/m)\n",
      "Is the data for None with 90% correct? (y/n/m)\n",
      "Is the data for Xanthomonas oryzae with 63.7% correct? (y/n/m)\n",
      "Is the data for Bacillus with 41.41% correct? (y/n/m)\n",
      "Is the data for Streptomyces with 71.80% correct? (y/n/m)\n",
      "Is the data for None with 39.2% correct? (y/n/m)\n",
      "Is the data for Methylocystis with None correct? (y/n/m)\n",
      "Is the data for Paenibacillus with 46% correct? (y/n/m)\n",
      "Is the data for Enterococcus faecalis with None correct? (y/n/m)\n",
      "Is the data for Enterobacter roggenkampii with 56.16% correct? (y/n/m)\n",
      "Is the data for None with None correct? (y/n/m)\n",
      "Is the data for None with 39% correct? (y/n/m)\n",
      "Is the data for None with 0.9% correct? (y/n/m)\n",
      "Is the data for None with 27.6% correct? (y/n/m)\n",
      "Is the data for Pseudarthrobacter phenanthrenivorans with 65.30% correct? (y/n/m)\n",
      "Is the data for Micrococcaceae with None correct? (y/n/m)\n",
      "Is the data for None with 64% correct? (y/n/m)\n",
      "Is the data for None with 60% correct? (y/n/m)\n",
      "Is the data for None with None correct? (y/n/m)\n",
      "Is the data for Methanococcus maripaludis with 94% correct? (y/n/m)\n"
     ]
    },
    {
     "data": {
      "text/plain": [
       "[{None: '43.88%', 'is_valuable_data': 'n'},\n",
       " {None: '56%', 'is_valuable_data': 'n'},\n",
       " {None: '53.50%', 'is_valuable_data': 'n'},\n",
       " {None: '51.68%', 'is_valuable_data': 'n'},\n",
       " {'Martelella soudanensis': None, 'is_valuable_data': 'n'},\n",
       " {None: None, 'is_valuable_data': 'n'},\n",
       " {'amoA': '2%', 'is_valuable_data': 'm'},\n",
       " {'Caragana microphylla, Caragana liouana': '1%', 'is_valuable_data': 'm'},\n",
       " {None: '96.63%', 'is_valuable_data': 'n'},\n",
       " {'E. coli': '7.4%', 'is_valuable_data': 'm'},\n",
       " {'Haliclona (Rhizoniera)': '80%', 'is_valuable_data': 'm'},\n",
       " {'Oceanobacillus jordanicus': '39.09%', 'is_valuable_data': 'm'},\n",
       " {'Lactobacillus rhamnosus': None, 'is_valuable_data': 'n'},\n",
       " {'Pediococcus pentosaceus': None, 'is_valuable_data': 'n'},\n",
       " {None: '90%', 'is_valuable_data': 'n'},\n",
       " {'Xanthomonas oryzae': '63.7%', 'is_valuable_data': 'm'},\n",
       " {'Bacillus': '41.41%', 'is_valuable_data': 'm'},\n",
       " {'Streptomyces': '71.80%', 'is_valuable_data': 'm'},\n",
       " {None: '39.2%', 'is_valuable_data': 'n'},\n",
       " {'Methylocystis': None, 'is_valuable_data': 'n'},\n",
       " {'Paenibacillus': '46%', 'is_valuable_data': 'm'},\n",
       " {'Enterococcus faecalis': None, 'is_valuable_data': 'n'},\n",
       " {'Enterobacter roggenkampii': '56.16%', 'is_valuable_data': 'm'},\n",
       " {None: None, 'is_valuable_data': 'n'},\n",
       " {None: '39%', 'is_valuable_data': 'n'},\n",
       " {None: '0.9%', 'is_valuable_data': 'n'},\n",
       " {None: '27.6%', 'is_valuable_data': 'n'},\n",
       " {'Pseudarthrobacter phenanthrenivorans': '65.30%', 'is_valuable_data': 'm'},\n",
       " {'Micrococcaceae': None, 'is_valuable_data': 'n'},\n",
       " {None: '64%', 'is_valuable_data': 'n'},\n",
       " {None: '60%', 'is_valuable_data': 'n'},\n",
       " {None: None, 'is_valuable_data': 'n'},\n",
       " {'Methanococcus maripaludis': '94%', 'is_valuable_data': 'n'}]"
      ]
     },
     "execution_count": 17,
     "metadata": {},
     "output_type": "execute_result"
    }
   ],
   "source": [
    "hopefull_dicts = []\n",
    "\n",
    "# give the one <i> tag which is the nearest to the % sign\n",
    "\n",
    "# Add DOI to the dict\n",
    "# Add Abstract to the dict\n",
    "# ETC\n",
    "\n",
    "\n",
    "for pre_x in abstracts_with_one_perc:\n",
    "    x = pre_x[\"Abstract\"][\"AbstractText\"][0]\n",
    "    \n",
    "    # Extract the content between the tags\n",
    "    result = re.search(r\"<i>(.*?)</i>\", x)\n",
    "    if result:\n",
    "        hopefully_bacterial = result.group(1)\n",
    "    else:\n",
    "        hopefully_bacterial = None\n",
    "\n",
    "\n",
    "    # Extract the precentage value\n",
    "    result = re.search(r\"([\\d\\.]+\\%)\", x)\n",
    "    if result:\n",
    "        hopefully_percentage_for_bacterial = result.group(1)\n",
    "    else:\n",
    "        hopefully_percentage_for_bacterial = None\n",
    "\n",
    "    is_valuable_data = \"\"\n",
    "    print(\"Is the data for \" + str(hopefully_bacterial) + \" with \" + str(hopefully_percentage_for_bacterial) + \" correct? (y/n/m)\")\n",
    "    while(is_valuable_data != \"y\" and is_valuable_data != \"n\" and is_valuable_data != \"m\"):\n",
    "        is_valuable_data = input(\"Is the data for \" + str(hopefully_bacterial) + \" with \" + str(hopefully_percentage_for_bacterial) + \" correct? (y/n/m)\")\n",
    "\n",
    "    hopefull_dict = {hopefully_bacterial: hopefully_percentage_for_bacterial, \"is_valuable_data\": is_valuable_data}\n",
    "\n",
    "    hopefull_dicts.append(hopefull_dict)\n",
    "\n",
    "# show only dicts with a value and a key\n",
    "# hopefull_dicts = [x for x in hopefull_dicts if list(x.keys())[0] is not None and list(x.values())[0] is not None]\n",
    "hopefull_dicts\n",
    "# how do we verify?\n",
    "\n",
    "\n",
    "\n"
   ]
  },
  {
   "cell_type": "code",
   "execution_count": 19,
   "metadata": {},
   "outputs": [
    {
     "data": {
      "text/plain": [
       "[{'amoA': '2%', 'is_valuable_data': 'm'},\n",
       " {'Caragana microphylla, Caragana liouana': '1%', 'is_valuable_data': 'm'},\n",
       " {'E. coli': '7.4%', 'is_valuable_data': 'm'},\n",
       " {'Haliclona (Rhizoniera)': '80%', 'is_valuable_data': 'm'},\n",
       " {'Oceanobacillus jordanicus': '39.09%', 'is_valuable_data': 'm'},\n",
       " {'Xanthomonas oryzae': '63.7%', 'is_valuable_data': 'm'},\n",
       " {'Bacillus': '41.41%', 'is_valuable_data': 'm'},\n",
       " {'Streptomyces': '71.80%', 'is_valuable_data': 'm'},\n",
       " {'Paenibacillus': '46%', 'is_valuable_data': 'm'},\n",
       " {'Enterobacter roggenkampii': '56.16%', 'is_valuable_data': 'm'},\n",
       " {'Pseudarthrobacter phenanthrenivorans': '65.30%', 'is_valuable_data': 'm'}]"
      ]
     },
     "execution_count": 19,
     "metadata": {},
     "output_type": "execute_result"
    }
   ],
   "source": [
    "# only show the ones which are valuable\n",
    "[x for x in hopefull_dicts if x[\"is_valuable_data\"] == \"m\"]"
   ]
  },
  {
   "cell_type": "code",
   "execution_count": 14,
   "metadata": {},
   "outputs": [],
   "source": [
    "import pandas as pd\n",
    "# read csv Simulation.csv \n",
    "\n",
    "\n",
    "random_df = pd.read_csv(\"Simulation.csv\", sep=\";\")"
   ]
  },
  {
   "cell_type": "code",
   "execution_count": 16,
   "metadata": {},
   "outputs": [],
   "source": [
    "random_df.to_csv(\"Simulation_good_csv.csv\", sep=\",\", index=False, quoting=1)"
   ]
  },
  {
   "cell_type": "code",
   "execution_count": null,
   "metadata": {},
   "outputs": [],
   "source": []
  }
 ],
 "metadata": {
  "kernelspec": {
   "display_name": "Python 3.9.7 ('base')",
   "language": "python",
   "name": "python3"
  },
  "language_info": {
   "codemirror_mode": {
    "name": "ipython",
    "version": 3
   },
   "file_extension": ".py",
   "mimetype": "text/x-python",
   "name": "python",
   "nbconvert_exporter": "python",
   "pygments_lexer": "ipython3",
   "version": "3.9.13"
  },
  "orig_nbformat": 4,
  "vscode": {
   "interpreter": {
    "hash": "ad2bdc8ecc057115af97d19610ffacc2b4e99fae6737bb82f5d7fb13d2f2c186"
   }
  }
 },
 "nbformat": 4,
 "nbformat_minor": 2
}
