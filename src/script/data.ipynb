{
 "cells": [
  {
   "cell_type": "code",
   "execution_count": 1,
   "metadata": {},
   "outputs": [
    {
     "name": "stdout",
     "output_type": "stream",
     "text": [
      "String contains exactly one %\n"
     ]
    }
   ],
   "source": [
    "import re\n",
    "\n",
    "# short example for our precentage logic\n",
    "\n",
    "exm_1_string = \"The GC-content is 50%, and the pH is 7\"\n",
    "matches = re.findall(r\"\\%\", exm_1_string)\n",
    "if(len(matches) == 1):\n",
    "    print(\"String contains exactly one %\")\n"
   ]
  },
  {
   "cell_type": "code",
   "execution_count": 14,
   "metadata": {},
   "outputs": [
    {
     "name": "stdout",
     "output_type": "stream",
     "text": [
      "No abstract available\n",
      "No abstract available for 1 articles by total of 20 articles\n",
      "No abstract available for 0 articles by total of 20 articles\n",
      "No abstract available for 0 articles by total of 20 articles\n",
      "No abstract available for 0 articles by total of 20 articles\n",
      "No abstract available for 0 articles by total of 20 articles\n",
      "No abstract available for 0 articles by total of 20 articles\n",
      "No abstract available for 0 articles by total of 20 articles\n",
      "No abstract available for 0 articles by total of 20 articles\n",
      "No abstract available for 0 articles by total of 20 articles\n",
      "No abstract available\n",
      "No abstract available for 1 articles by total of 20 articles\n"
     ]
    }
   ],
   "source": [
    "from Bio import Entrez\n",
    "\n",
    "Entrez.email = \"bene6@hotmail.de\"  # Always tell NCBI who you are\n",
    "\n",
    "abstracts_with_one_perc = []\n",
    "\n",
    "# Search PubMed for articles with \"GC-content\" in the title\n",
    "for i in range(0, 200, 20):\n",
    "    handle = Entrez.esearch(db=\"pubmed\", term=\"GC content bacterial[Title]\", retstart=i, retmax=20)\n",
    "    record = Entrez.read(handle)\n",
    "    ids = record[\"IdList\"]\n",
    "    # Process the IDs\n",
    "\n",
    "    # Get the list of article IDs\n",
    "    article_ids = record[\"IdList\"]\n",
    "\n",
    "    # Fetch the abstracts for the articles\n",
    "    handle = Entrez.efetch(db=\"pubmed\", id=article_ids, rettype=\"abstract\")\n",
    "    records = Entrez.read(handle)\n",
    "\n",
    "    # Print the abstracts\n",
    "    noAbstract = 0\n",
    "    for record in records[\"PubmedArticle\"]:\n",
    "        try:\n",
    "            temp_record = record[\"MedlineCitation\"][\"Article\"]\n",
    "            matches = re.findall(r\"\\%\", temp_record[\"Abstract\"][\"AbstractText\"][0])\n",
    "            if(len(matches) == 1):\n",
    "                abstracts_with_one_perc.append(temp_record)\n",
    "            pass\n",
    "        except KeyError:\n",
    "            print(\"No abstract available\")\n",
    "            noAbstract += 1\n",
    "    print(\"No abstract available for \" + str(noAbstract) + \" articles \"  + \"by total of \" + str(len(article_ids)) + \" articles\")\n"
   ]
  },
  {
   "cell_type": "code",
   "execution_count": 8,
   "metadata": {},
   "outputs": [
    {
     "data": {
      "text/plain": [
       "'Bacterial evolution is characterized by strong purifying selection as well as rapid adaptive evolution in changing environments. In this context, the genomic GC content (genomic GC) varies greatly but presents some level of phylogenetic stability, making it challenging to explain based on current hypotheses. To illuminate the evolutionary mechanisms of the genomic GC, we analyzed the base composition and functional inventory of 11,083 representative genomes. A phylogenetically constrained bimodal distribution of the genomic GC, which mainly originated from parallel divergences in the early evolution, was demonstrated. Such variation of the genomic GC can be well explained by DNA replication and repair (DRR), in which multiple pathways correlate with the genomic GC. Furthermore, the biased conservation of various stress-related genes, especially the DRR-related ones, implies distinct adaptive processes in the ancestral lineages of high- or low-GC clades which are likely induced by major environmental changes. Our findings support that the mutational biases resulting from these legacies of ancient adaptation have changed the course of adaptive evolution and generated great variation in the genomic GC. This highlights the importance of indirect effects of natural selection, which indicates a new model for bacterial evolution. <b>IMPORTANCE</b> GC content has been shown to be an important factor in microbial ecology and evolution, and the genomic GC of bacteria can be characterized by great intergenomic heterogeneity, high intragenomic homogeneity, and strong phylogenetic inertia, as well as being associated with the environment. Current hypotheses concerning direct selection or mutational biases cannot well explain these features simultaneously. Our findings of the genomic GC showing that ancient adaptations have transformed the DRR system and that the resulting mutational biases further contributed to a bimodal distribution of it offer a more reasonable scenario for the mechanism. This would imply that, when thinking about the evolution of life, diverse processes of adaptation exist, and combined effects of natural selection should be considered.'"
      ]
     },
     "execution_count": 8,
     "metadata": {},
     "output_type": "execute_result"
    }
   ],
   "source": [
    "records[\"PubmedArticle\"][0][\"MedlineCitation\"][\"Article\"][\"Abstract\"][\"AbstractText\"][0]"
   ]
  },
  {
   "cell_type": "code",
   "execution_count": 19,
   "metadata": {},
   "outputs": [
    {
     "data": {
      "text/plain": [
       "[StringElement('Journal Article', attributes={'UI': 'D016428'})]"
      ]
     },
     "execution_count": 19,
     "metadata": {},
     "output_type": "execute_result"
    }
   ],
   "source": [
    "records[\"PubmedArticle\"][0][\"MedlineCitation\"][\"Article\"].keys()\n",
    "records[\"PubmedArticle\"][0][\"MedlineCitation\"][\"Article\"][\"PublicationTypeList\"]\n",
    "# records[\"PubmedArticle\"][0][\"MedlineCitation\"].keys()\n",
    "# records[\"PubmedArticle\"][0][\"MedlineCitation\"].keys()\n",
    "# records[\"PubmedArticle\"][0].keys()\n",
    "\n",
    "\n",
    "# records[\"PubmedArticle\"][0][\"PubmedData\"].keys()"
   ]
  },
  {
   "cell_type": "code",
   "execution_count": 6,
   "metadata": {},
   "outputs": [
    {
     "data": {
      "text/plain": [
       "[StringElement('10.1128/spectrum.02145-22', attributes={'EIdType': 'doi', 'ValidYN': 'Y'})]"
      ]
     },
     "execution_count": 6,
     "metadata": {},
     "output_type": "execute_result"
    }
   ],
   "source": [
    "records[\"PubmedArticle\"][0][\"MedlineCitation\"][\"Article\"][\"ELocationID\"]"
   ]
  },
  {
   "cell_type": "code",
   "execution_count": 25,
   "metadata": {},
   "outputs": [],
   "source": [
    "# abstracts_with_one_perc[0]\n",
    "matches = re.findall(r\"\\%\", abstracts_with_one_perc[0][\"Abstract\"][\"AbstractText\"][0])\n",
    "if(len(matches) > 1):\n",
    "    print(\"String contains more than one percent symbol\")"
   ]
  },
  {
   "cell_type": "code",
   "execution_count": 3,
   "metadata": {},
   "outputs": [
    {
     "data": {
      "text/plain": [
       "31"
      ]
     },
     "execution_count": 3,
     "metadata": {},
     "output_type": "execute_result"
    }
   ],
   "source": [
    "len(abstracts_with_one_perc)"
   ]
  },
  {
   "cell_type": "code",
   "execution_count": 5,
   "metadata": {},
   "outputs": [
    {
     "data": {
      "text/plain": [
       "'Here, we report the draft genome sequence of Xylella fastidiosa strain ATCC 35873, which was obtained from the American Type Culture Collection and was originally isolated from a symptomatic American elm tree grown in Washington, DC. The ATCC 35873 genome contains 2,454,216\\u2009bp and has a GC content of 51.68%.'"
      ]
     },
     "execution_count": 5,
     "metadata": {},
     "output_type": "execute_result"
    }
   ],
   "source": [
    "abstracts_with_one_perc[0]"
   ]
  },
  {
   "cell_type": "code",
   "execution_count": 18,
   "metadata": {},
   "outputs": [
    {
     "data": {
      "text/plain": [
       "[{None: '51.68%'},\n",
       " {'Martelella soudanensis': None},\n",
       " {None: None},\n",
       " {'amoA': '2%'},\n",
       " {'Caragana microphylla, Caragana liouana': '1%'},\n",
       " {'Lentilactobacillus buchneri': '96.63%'},\n",
       " {'E. coli': '7.4%'},\n",
       " {'Haliclona (Rhizoniera)': '80%'},\n",
       " {'Oceanobacillus jordanicus': '39.09%'},\n",
       " {'Lactobacillus rhamnosus': None},\n",
       " {'Pediococcus pentosaceus': None},\n",
       " {None: '90%'},\n",
       " {'Xanthomonas oryzae': '63.7%'},\n",
       " {'Bacillus': '41.41%'},\n",
       " {'Streptomyces': '71.80%'},\n",
       " {None: '39.2%'},\n",
       " {'Methylocystis': None},\n",
       " {'Paenibacillus': '46%'},\n",
       " {'Enterococcus faecalis': None},\n",
       " {'Enterobacter roggenkampii': '56.16%'},\n",
       " {None: None},\n",
       " {None: '39%'},\n",
       " {None: '0.9%'},\n",
       " {None: '27.6%'},\n",
       " {'Pseudarthrobacter phenanthrenivorans': '65.30%'},\n",
       " {'Micrococcaceae': None},\n",
       " {None: '64%'},\n",
       " {None: '60%'},\n",
       " {None: None},\n",
       " {'Methanococcus maripaludis': '94%'},\n",
       " {None: '59.2%'}]"
      ]
     },
     "execution_count": 18,
     "metadata": {},
     "output_type": "execute_result"
    }
   ],
   "source": [
    "hopefull_dicts = []\n",
    "\n",
    "# give the one <i> tag which is the nearest to the % sign\n",
    "\n",
    "for pre_x in abstracts_with_one_perc:\n",
    "    x = pre_x[\"Abstract\"][\"AbstractText\"][0]\n",
    "    \n",
    "    # Extract the content between the tags\n",
    "    result = re.search(r\"<i>(.*?)</i>\", x)\n",
    "    if result:\n",
    "        hopefully_bacterial = result.group(1)\n",
    "    else:\n",
    "        hopefully_bacterial = None\n",
    "    # Extract the precentage value\n",
    "    result = re.search(r\"([\\d\\.]+\\%)\", x)\n",
    "    if result:\n",
    "        hopefully_percentage_for_bacterial = result.group(1)\n",
    "    else:\n",
    "        hopefully_percentage_for_bacterial = None\n",
    "    hopefull_dict = {hopefully_bacterial: hopefully_percentage_for_bacterial}\n",
    "\n",
    "    hopefull_dicts.append(hopefull_dict)\n",
    "\n",
    "# show only dicts with a value and a key\n",
    "# hopefull_dicts = [x for x in hopefull_dicts if list(x.keys())[0] is not None and list(x.values())[0] is not None]\n",
    "hopefull_dicts\n",
    "# how do we verify?\n",
    "\n",
    "\n",
    "\n"
   ]
  }
 ],
 "metadata": {
  "kernelspec": {
   "display_name": "Python 3.9.7 ('base')",
   "language": "python",
   "name": "python3"
  },
  "language_info": {
   "codemirror_mode": {
    "name": "ipython",
    "version": 3
   },
   "file_extension": ".py",
   "mimetype": "text/x-python",
   "name": "python",
   "nbconvert_exporter": "python",
   "pygments_lexer": "ipython3",
   "version": "3.9.7 (default, Sep 16 2021, 16:59:28) [MSC v.1916 64 bit (AMD64)]"
  },
  "orig_nbformat": 4,
  "vscode": {
   "interpreter": {
    "hash": "ad2bdc8ecc057115af97d19610ffacc2b4e99fae6737bb82f5d7fb13d2f2c186"
   }
  }
 },
 "nbformat": 4,
 "nbformat_minor": 2
}
