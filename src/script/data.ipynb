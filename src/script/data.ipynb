{
 "cells": [
  {
   "cell_type": "code",
   "execution_count": 2,
   "metadata": {},
   "outputs": [
    {
     "name": "stdout",
     "output_type": "stream",
     "text": [
      "String contains exactly one %\n"
     ]
    }
   ],
   "source": [
    "import re\n",
    "\n",
    "# short example for our precentage logic\n",
    "\n",
    "exm_1_string = \"The GC-content is 50%, and the pH is 7\"\n",
    "matches = re.findall(r\"\\%\", exm_1_string)\n",
    "if(len(matches) == 1):\n",
    "    print(\"String contains exactly one %\")\n"
   ]
  },
  {
   "cell_type": "code",
   "execution_count": 3,
   "metadata": {},
   "outputs": [
    {
     "name": "stdout",
     "output_type": "stream",
     "text": [
      "No abstract available\n",
      "No abstract available for 1 articles by total of 20 articles\n",
      "No abstract available for 0 articles by total of 20 articles\n",
      "No abstract available for 0 articles by total of 20 articles\n",
      "No abstract available for 0 articles by total of 20 articles\n",
      "No abstract available for 0 articles by total of 20 articles\n",
      "No abstract available for 0 articles by total of 20 articles\n",
      "No abstract available for 0 articles by total of 20 articles\n",
      "No abstract available for 0 articles by total of 20 articles\n",
      "No abstract available for 0 articles by total of 20 articles\n",
      "No abstract available\n",
      "No abstract available for 1 articles by total of 20 articles\n"
     ]
    }
   ],
   "source": [
    "from Bio import Entrez\n",
    "\n",
    "Entrez.email = \"bene6@hotmail.de\"  # Always tell NCBI who you are\n",
    "\n",
    "abstracts_with_one_perc = []\n",
    "\n",
    "# Search PubMed for articles with \"GC-content\" in the title\n",
    "for i in range(0, 200, 20):\n",
    "    handle = Entrez.esearch(db=\"pubmed\", term=\"GC content bacterial[Title]\", retstart=i, retmax=20)\n",
    "    record = Entrez.read(handle)\n",
    "    ids = record[\"IdList\"]\n",
    "    # Process the IDs\n",
    "\n",
    "    # Get the list of article IDs\n",
    "    article_ids = record[\"IdList\"]\n",
    "\n",
    "    # Fetch the abstracts for the articles\n",
    "    handle = Entrez.efetch(db=\"pubmed\", id=article_ids, rettype=\"abstract\")\n",
    "    records = Entrez.read(handle)\n",
    "\n",
    "    # Print the abstracts\n",
    "    noAbstract = 0\n",
    "    for record in records[\"PubmedArticle\"]:\n",
    "        try:\n",
    "            temp_record = record[\"MedlineCitation\"][\"Article\"]\n",
    "            matches = re.findall(r\"\\%\", temp_record[\"Abstract\"][\"AbstractText\"][0])\n",
    "            if(len(matches) == 1):\n",
    "                abstracts_with_one_perc.append(temp_record)\n",
    "            pass\n",
    "        except KeyError:\n",
    "            print(\"No abstract available\")\n",
    "            noAbstract += 1\n",
    "    print(\"No abstract available for \" + str(noAbstract) + \" articles \"  + \"by total of \" + str(len(article_ids)) + \" articles\")\n"
   ]
  },
  {
   "cell_type": "code",
   "execution_count": 4,
   "metadata": {},
   "outputs": [
    {
     "data": {
      "text/plain": [
       "'In this study, Illumina Miseq sequencing of 16S rRNA gene amplicon was performed on sediments collected from Krossfjorden, Arctic for analyzing the bacterial community structure. Metagenome contained 15,936 sequences with 5,809,491 bp size and 53% G+C content. Metagenome sequence information are now available at NCBI under the Sequence Read Archive (SRA) database with accession no. SRP159159. Taxonomic hits distribution from MG-RAST analysis revealed the dominance of Alpha- and Gamma-subdivisions of Proteobacteria (88.89%) along with Bacteriodetes (8.89%) and Firmicutes (2.22%). Predominant species were <i>Alteromonadales bacterium</i> TW-7 (24%), <i>Pseudoalteromonas haloplanktis</i> (20%) and <i>Pseudoalteromonas</i> spp. SM9913 (18%). MG-RAST assisted analysis also detected the presence of a variety of marine taxa like <i>Bacteriodes, Pseudovibrio, Marinobacter, Idiomarina, Teredinibacter,</i> etc. which take part in key ecological functions and biogeochemical activities of Arctic fjord ecosystems.'"
      ]
     },
     "execution_count": 4,
     "metadata": {},
     "output_type": "execute_result"
    }
   ],
   "source": [
    "records[\"PubmedArticle\"][0][\"MedlineCitation\"][\"Article\"][\"Abstract\"][\"AbstractText\"][0]"
   ]
  },
  {
   "cell_type": "code",
   "execution_count": 5,
   "metadata": {},
   "outputs": [
    {
     "data": {
      "text/plain": [
       "[StringElement('Journal Article', attributes={'UI': 'D016428'})]"
      ]
     },
     "execution_count": 5,
     "metadata": {},
     "output_type": "execute_result"
    }
   ],
   "source": [
    "records[\"PubmedArticle\"][0][\"MedlineCitation\"][\"Article\"].keys()\n",
    "records[\"PubmedArticle\"][0][\"MedlineCitation\"][\"Article\"][\"PublicationTypeList\"]\n",
    "# records[\"PubmedArticle\"][0][\"MedlineCitation\"].keys()\n",
    "# records[\"PubmedArticle\"][0][\"MedlineCitation\"].keys()\n",
    "# records[\"PubmedArticle\"][0].keys()\n",
    "\n",
    "\n",
    "# records[\"PubmedArticle\"][0][\"PubmedData\"].keys()"
   ]
  },
  {
   "cell_type": "code",
   "execution_count": 6,
   "metadata": {},
   "outputs": [
    {
     "data": {
      "text/plain": [
       "[StringElement('10.1016/j.dib.2018.11.101', attributes={'EIdType': 'doi', 'ValidYN': 'Y'})]"
      ]
     },
     "execution_count": 6,
     "metadata": {},
     "output_type": "execute_result"
    }
   ],
   "source": [
    "records[\"PubmedArticle\"][0][\"MedlineCitation\"][\"Article\"][\"ELocationID\"]"
   ]
  },
  {
   "cell_type": "code",
   "execution_count": 7,
   "metadata": {},
   "outputs": [],
   "source": [
    "# abstracts_with_one_perc[0]\n",
    "matches = re.findall(r\"\\%\", abstracts_with_one_perc[0][\"Abstract\"][\"AbstractText\"][0])\n",
    "if(len(matches) > 1):\n",
    "    print(\"String contains more than one percent symbol\")"
   ]
  },
  {
   "cell_type": "code",
   "execution_count": 8,
   "metadata": {},
   "outputs": [
    {
     "data": {
      "text/plain": [
       "33"
      ]
     },
     "execution_count": 8,
     "metadata": {},
     "output_type": "execute_result"
    }
   ],
   "source": [
    "len(abstracts_with_one_perc)"
   ]
  },
  {
   "cell_type": "code",
   "execution_count": 9,
   "metadata": {},
   "outputs": [
    {
     "data": {
      "text/plain": [
       "DictElement({'ELocationID': [StringElement('10.1016/j.margen.2023.101018', attributes={'EIdType': 'doi', 'ValidYN': 'Y'}), StringElement('S1874-7787(23)00010-7', attributes={'EIdType': 'pii', 'ValidYN': 'Y'})], 'ArticleDate': [DictElement({'Year': '2023', 'Month': '02', 'Day': '24'}, attributes={'DateType': 'Electronic'})], 'Language': ['eng'], 'Journal': {'ISSN': StringElement('1876-7478', attributes={'IssnType': 'Electronic'}), 'JournalIssue': DictElement({'Volume': '68', 'PubDate': {'Year': '2023', 'Month': 'Apr'}}, attributes={'CitedMedium': 'Internet'}), 'Title': 'Marine genomics', 'ISOAbbreviation': 'Mar Genomics'}, 'ArticleTitle': 'Complete genome analysis of Bacillus subtilis TY-1 reveals its biocontrol potential against tobacco bacterial wilt.', 'Pagination': {'StartPage': '101018', 'MedlinePgn': '101018'}, 'Abstract': {'AbstractText': ['Bacillus subtilis TY-1 was isolated from 2000\\xa0m-deep sea sediments of the Western Pacific Ocean, which was found to exhibit strong antagonistic activity against tobacco bacterial wilt caused by Ralstonia solanacearum. Here, we present the annotated complete genomic sequence of the strain Bacillus subtilis TY-1. The genome consists of a 4,030,869-bp circular chromosome with a G\\xa0+\\xa0C content of 43.88%, 86 tRNAs, and 30 rRNAs. Genomic analysis identified a large number of gene clusters involved in the biosynthesis of antibacterial metabolites, including lipopeptides(surfactin, bacillibactin, and fengycin) and polyketides(bacillaene). Meanwhile, numerous genes encoding carbohydrate-active enzymes and secreted proteins were found in TY-1. These findings suggest that Bacillus subtilis TY-1 appears to be a potential biocontrol agent against tobacco bacterial wilt in agricultural fields.'], 'CopyrightInformation': 'Copyright © 2023 Elsevier B.V. All rights reserved.'}, 'AuthorList': ListElement([DictElement({'AffiliationInfo': [{'Identifier': [], 'Affiliation': 'School of Advanced Manufacturing, Fuzhou University, Jinjiang 362200, Fujian, China; Key Laboratory of Marine Genetic Resources, Third Institute of Oceanography, Ministry of Natural Resources, Xiamen 361005, Fujian, China.'}], 'Identifier': [], 'LastName': 'Tian', 'ForeName': 'Yin', 'Initials': 'Y'}, attributes={'ValidYN': 'Y'}), DictElement({'AffiliationInfo': [{'Identifier': [], 'Affiliation': 'Technology Center, China Tobacco Fujian Industrial Co., Ltd., Xiamen 361021, Fujian, China.'}], 'Identifier': [], 'LastName': 'Ji', 'ForeName': 'Shunhua', 'Initials': 'S'}, attributes={'ValidYN': 'Y'}), DictElement({'AffiliationInfo': [{'Identifier': [], 'Affiliation': 'Technology Center, China Tobacco Fujian Industrial Co., Ltd., Xiamen 361021, Fujian, China.'}], 'Identifier': [], 'LastName': 'Zhang', 'ForeName': 'Enren', 'Initials': 'E'}, attributes={'ValidYN': 'Y'}), DictElement({'AffiliationInfo': [{'Identifier': [], 'Affiliation': 'Technology Center, China Tobacco Fujian Industrial Co., Ltd., Xiamen 361021, Fujian, China.'}], 'Identifier': [], 'LastName': 'Chen', 'ForeName': 'Yiqiang', 'Initials': 'Y'}, attributes={'ValidYN': 'Y'}), DictElement({'AffiliationInfo': [{'Identifier': [], 'Affiliation': 'Key Laboratory of Marine Genetic Resources, Third Institute of Oceanography, Ministry of Natural Resources, Xiamen 361005, Fujian, China.'}], 'Identifier': [], 'LastName': 'Xu', 'ForeName': 'Guangxin', 'Initials': 'G'}, attributes={'ValidYN': 'Y'}), DictElement({'AffiliationInfo': [{'Identifier': [], 'Affiliation': 'Key Laboratory of Marine Genetic Resources, Third Institute of Oceanography, Ministry of Natural Resources, Xiamen 361005, Fujian, China.'}], 'Identifier': [], 'LastName': 'Chen', 'ForeName': 'Xi', 'Initials': 'X'}, attributes={'ValidYN': 'Y'}), DictElement({'AffiliationInfo': [{'Identifier': [], 'Affiliation': 'Technology Center, China Tobacco Fujian Industrial Co., Ltd., Xiamen 361021, Fujian, China. Electronic address: fjq10393@fjtic.cn.'}], 'Identifier': [], 'LastName': 'Fan', 'ForeName': 'Jianqiang', 'Initials': 'J'}, attributes={'ValidYN': 'Y'}), DictElement({'AffiliationInfo': [{'Identifier': [], 'Affiliation': 'School of Advanced Manufacturing, Fuzhou University, Jinjiang 362200, Fujian, China; Key Laboratory of Marine Genetic Resources, Third Institute of Oceanography, Ministry of Natural Resources, Xiamen 361005, Fujian, China. Electronic address: tangxixiang@tio.org.cn.'}], 'Identifier': [], 'LastName': 'Tang', 'ForeName': 'Xixiang', 'Initials': 'X'}, attributes={'ValidYN': 'Y'})], attributes={'CompleteYN': 'Y'}), 'PublicationTypeList': [StringElement('Journal Article', attributes={'UI': 'D016428'})]}, attributes={'PubModel': 'Print-Electronic'})"
      ]
     },
     "execution_count": 9,
     "metadata": {},
     "output_type": "execute_result"
    }
   ],
   "source": [
    "abstracts_with_one_perc[0]"
   ]
  },
  {
   "cell_type": "code",
   "execution_count": 11,
   "metadata": {},
   "outputs": [
    {
     "ename": "KeyboardInterrupt",
     "evalue": "Interrupted by user",
     "output_type": "error",
     "traceback": [
      "\u001b[1;31m---------------------------------------------------------------------------\u001b[0m",
      "\u001b[1;31mKeyboardInterrupt\u001b[0m                         Traceback (most recent call last)",
      "\u001b[1;32m~\\AppData\\Local\\Temp/ipykernel_21620/1568230781.py\u001b[0m in \u001b[0;36m<module>\u001b[1;34m\u001b[0m\n\u001b[0;32m     23\u001b[0m     \u001b[0mis_valuebal_data\u001b[0m \u001b[1;33m=\u001b[0m \u001b[1;34m\"\"\u001b[0m\u001b[1;33m\u001b[0m\u001b[1;33m\u001b[0m\u001b[0m\n\u001b[0;32m     24\u001b[0m     \u001b[1;32mwhile\u001b[0m\u001b[1;33m(\u001b[0m\u001b[0mis_valuebal_data\u001b[0m \u001b[1;33m!=\u001b[0m \u001b[1;34m\"y\"\u001b[0m \u001b[1;32mand\u001b[0m \u001b[0mis_valuebal_data\u001b[0m \u001b[1;33m!=\u001b[0m \u001b[1;34m\"n\"\u001b[0m\u001b[1;33m)\u001b[0m\u001b[1;33m:\u001b[0m\u001b[1;33m\u001b[0m\u001b[1;33m\u001b[0m\u001b[0m\n\u001b[1;32m---> 25\u001b[1;33m         \u001b[0mis_valuebal_data\u001b[0m \u001b[1;33m=\u001b[0m \u001b[0minput\u001b[0m\u001b[1;33m(\u001b[0m\u001b[1;34m\"Is the data for \"\u001b[0m \u001b[1;33m+\u001b[0m \u001b[0mstr\u001b[0m\u001b[1;33m(\u001b[0m\u001b[0mhopefully_bacterial\u001b[0m\u001b[1;33m)\u001b[0m \u001b[1;33m+\u001b[0m \u001b[1;34m\" with \"\u001b[0m \u001b[1;33m+\u001b[0m \u001b[0mstr\u001b[0m\u001b[1;33m(\u001b[0m\u001b[0mhopefully_percentage_for_bacterial\u001b[0m\u001b[1;33m)\u001b[0m \u001b[1;33m+\u001b[0m \u001b[1;34m\" correct? (y/n)\"\u001b[0m\u001b[1;33m)\u001b[0m\u001b[1;33m\u001b[0m\u001b[1;33m\u001b[0m\u001b[0m\n\u001b[0m\u001b[0;32m     26\u001b[0m     \u001b[1;31m# convert to boolean\u001b[0m\u001b[1;33m\u001b[0m\u001b[1;33m\u001b[0m\u001b[0m\n\u001b[0;32m     27\u001b[0m     \u001b[0mis_valuebal_data\u001b[0m \u001b[1;33m=\u001b[0m \u001b[0mis_valuebal_data\u001b[0m \u001b[1;33m==\u001b[0m \u001b[1;34m\"y\"\u001b[0m\u001b[1;33m\u001b[0m\u001b[1;33m\u001b[0m\u001b[0m\n",
      "\u001b[1;32mc:\\ProgramData\\Anaconda3\\lib\\site-packages\\ipykernel\\kernelbase.py\u001b[0m in \u001b[0;36mraw_input\u001b[1;34m(self, prompt)\u001b[0m\n\u001b[0;32m   1004\u001b[0m                 \u001b[1;34m\"raw_input was called, but this frontend does not support input requests.\"\u001b[0m\u001b[1;33m\u001b[0m\u001b[1;33m\u001b[0m\u001b[0m\n\u001b[0;32m   1005\u001b[0m             )\n\u001b[1;32m-> 1006\u001b[1;33m         return self._input_request(\n\u001b[0m\u001b[0;32m   1007\u001b[0m             \u001b[0mstr\u001b[0m\u001b[1;33m(\u001b[0m\u001b[0mprompt\u001b[0m\u001b[1;33m)\u001b[0m\u001b[1;33m,\u001b[0m\u001b[1;33m\u001b[0m\u001b[1;33m\u001b[0m\u001b[0m\n\u001b[0;32m   1008\u001b[0m             \u001b[0mself\u001b[0m\u001b[1;33m.\u001b[0m\u001b[0m_parent_ident\u001b[0m\u001b[1;33m[\u001b[0m\u001b[1;34m\"shell\"\u001b[0m\u001b[1;33m]\u001b[0m\u001b[1;33m,\u001b[0m\u001b[1;33m\u001b[0m\u001b[1;33m\u001b[0m\u001b[0m\n",
      "\u001b[1;32mc:\\ProgramData\\Anaconda3\\lib\\site-packages\\ipykernel\\kernelbase.py\u001b[0m in \u001b[0;36m_input_request\u001b[1;34m(self, prompt, ident, parent, password)\u001b[0m\n\u001b[0;32m   1049\u001b[0m             \u001b[1;32mexcept\u001b[0m \u001b[0mKeyboardInterrupt\u001b[0m\u001b[1;33m:\u001b[0m\u001b[1;33m\u001b[0m\u001b[1;33m\u001b[0m\u001b[0m\n\u001b[0;32m   1050\u001b[0m                 \u001b[1;31m# re-raise KeyboardInterrupt, to truncate traceback\u001b[0m\u001b[1;33m\u001b[0m\u001b[1;33m\u001b[0m\u001b[0m\n\u001b[1;32m-> 1051\u001b[1;33m                 \u001b[1;32mraise\u001b[0m \u001b[0mKeyboardInterrupt\u001b[0m\u001b[1;33m(\u001b[0m\u001b[1;34m\"Interrupted by user\"\u001b[0m\u001b[1;33m)\u001b[0m \u001b[1;32mfrom\u001b[0m \u001b[1;32mNone\u001b[0m\u001b[1;33m\u001b[0m\u001b[1;33m\u001b[0m\u001b[0m\n\u001b[0m\u001b[0;32m   1052\u001b[0m             \u001b[1;32mexcept\u001b[0m \u001b[0mException\u001b[0m\u001b[1;33m:\u001b[0m\u001b[1;33m\u001b[0m\u001b[1;33m\u001b[0m\u001b[0m\n\u001b[0;32m   1053\u001b[0m                 \u001b[0mself\u001b[0m\u001b[1;33m.\u001b[0m\u001b[0mlog\u001b[0m\u001b[1;33m.\u001b[0m\u001b[0mwarning\u001b[0m\u001b[1;33m(\u001b[0m\u001b[1;34m\"Invalid Message:\"\u001b[0m\u001b[1;33m,\u001b[0m \u001b[0mexc_info\u001b[0m\u001b[1;33m=\u001b[0m\u001b[1;32mTrue\u001b[0m\u001b[1;33m)\u001b[0m\u001b[1;33m\u001b[0m\u001b[1;33m\u001b[0m\u001b[0m\n",
      "\u001b[1;31mKeyboardInterrupt\u001b[0m: Interrupted by user"
     ]
    }
   ],
   "source": [
    "hopefull_dicts = []\n",
    "\n",
    "# give the one <i> tag which is the nearest to the % sign\n",
    "\n",
    "for pre_x in abstracts_with_one_perc:\n",
    "    x = pre_x[\"Abstract\"][\"AbstractText\"][0]\n",
    "    \n",
    "    # Extract the content between the tags\n",
    "    result = re.search(r\"<i>(.*?)</i>\", x)\n",
    "    if result:\n",
    "        hopefully_bacterial = result.group(1)\n",
    "    else:\n",
    "        hopefully_bacterial = None\n",
    "\n",
    "\n",
    "    # Extract the precentage value\n",
    "    result = re.search(r\"([\\d\\.]+\\%)\", x)\n",
    "    if result:\n",
    "        hopefully_percentage_for_bacterial = result.group(1)\n",
    "    else:\n",
    "        hopefully_percentage_for_bacterial = None\n",
    "\n",
    "    is_valuable_data = \"\"\n",
    "    while(is_valuable_data != \"y\" and is_valuable_data != \"n\" and is_valuable_data != \"m\"):\n",
    "        is_valuable_data = input(\"Is the data for \" + str(hopefully_bacterial) + \" with \" + str(hopefully_percentage_for_bacterial) + \" correct? (y/n/m)\")\n",
    "\n",
    "    hopefull_dict = {hopefully_bacterial: hopefully_percentage_for_bacterial, \"is_valuable_data\": is_valuable_data}\n",
    "\n",
    "    hopefull_dicts.append(hopefull_dict)\n",
    "\n",
    "# show only dicts with a value and a key\n",
    "# hopefull_dicts = [x for x in hopefull_dicts if list(x.keys())[0] is not None and list(x.values())[0] is not None]\n",
    "hopefull_dicts\n",
    "# how do we verify?\n",
    "\n",
    "\n",
    "\n"
   ]
  },
  {
   "cell_type": "code",
   "execution_count": null,
   "metadata": {},
   "outputs": [],
   "source": []
  }
 ],
 "metadata": {
  "kernelspec": {
   "display_name": "Python 3.9.7 ('base')",
   "language": "python",
   "name": "python3"
  },
  "language_info": {
   "codemirror_mode": {
    "name": "ipython",
    "version": 3
   },
   "file_extension": ".py",
   "mimetype": "text/x-python",
   "name": "python",
   "nbconvert_exporter": "python",
   "pygments_lexer": "ipython3",
   "version": "3.9.7"
  },
  "orig_nbformat": 4,
  "vscode": {
   "interpreter": {
    "hash": "ad2bdc8ecc057115af97d19610ffacc2b4e99fae6737bb82f5d7fb13d2f2c186"
   }
  }
 },
 "nbformat": 4,
 "nbformat_minor": 2
}
